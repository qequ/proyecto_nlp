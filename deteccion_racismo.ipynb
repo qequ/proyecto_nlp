{
 "cells": [
  {
   "cell_type": "code",
   "execution_count": 1,
   "metadata": {},
   "outputs": [
    {
     "name": "stderr",
     "output_type": "stream",
     "text": [
      "[nltk_data] Downloading package stopwords to /home/alvaro/nltk_data...\n",
      "[nltk_data]   Package stopwords is already up-to-date!\n"
     ]
    },
    {
     "data": {
      "text/plain": [
       "True"
      ]
     },
     "execution_count": 1,
     "metadata": {},
     "output_type": "execute_result"
    }
   ],
   "source": [
    "import numpy as np\n",
    "import pandas as pd\n",
    "import string\n",
    "from sklearn.feature_extraction.text import TfidfVectorizer\n",
    "from sklearn.model_selection import train_test_split\n",
    "import nltk\n",
    "from nltk.corpus import stopwords\n",
    "from nltk.stem import SnowballStemmer\n",
    "#Run the below piece of code for the first time\n",
    "nltk.download('stopwords')"
   ]
  },
  {
   "cell_type": "code",
   "execution_count": 4,
   "metadata": {},
   "outputs": [
    {
     "data": {
      "text/html": [
       "<div>\n",
       "<style scoped>\n",
       "    .dataframe tbody tr th:only-of-type {\n",
       "        vertical-align: middle;\n",
       "    }\n",
       "\n",
       "    .dataframe tbody tr th {\n",
       "        vertical-align: top;\n",
       "    }\n",
       "\n",
       "    .dataframe thead th {\n",
       "        text-align: right;\n",
       "    }\n",
       "</style>\n",
       "<table border=\"1\" class=\"dataframe\">\n",
       "  <thead>\n",
       "    <tr style=\"text-align: right;\">\n",
       "      <th></th>\n",
       "      <th>racist/not_racist</th>\n",
       "      <th>dialog_line</th>\n",
       "    </tr>\n",
       "  </thead>\n",
       "  <tbody>\n",
       "    <tr>\n",
       "      <th>0</th>\n",
       "      <td>not_racist</td>\n",
       "      <td>\\n\\n\\n\\n\\n</td>\n",
       "    </tr>\n",
       "    <tr>\n",
       "      <th>1</th>\n",
       "      <td>not_racist</td>\n",
       "      <td>GRAN TORINO\\n\\n\\n\\n                           ...</td>\n",
       "    </tr>\n",
       "    <tr>\n",
       "      <th>2</th>\n",
       "      <td>not_racist</td>\n",
       "      <td>FADE IN\\n\\n\\n\\n          INT CHURCH\\n\\n\\n     ...</td>\n",
       "    </tr>\n",
       "    <tr>\n",
       "      <th>3</th>\n",
       "      <td>not_racist</td>\n",
       "      <td>\\n\\n\\n          OLDER MAN\\n\\n          Im real...</td>\n",
       "    </tr>\n",
       "    <tr>\n",
       "      <th>4</th>\n",
       "      <td>not_racist</td>\n",
       "      <td>Walt She was a real peach\\n\\n\\n</td>\n",
       "    </tr>\n",
       "  </tbody>\n",
       "</table>\n",
       "</div>"
      ],
      "text/plain": [
       "  racist/not_racist                                        dialog_line\n",
       "0        not_racist        \\n\\n\\n\\n\\n                                 \n",
       "1        not_racist  GRAN TORINO\\n\\n\\n\\n                           ...\n",
       "2        not_racist  FADE IN\\n\\n\\n\\n          INT CHURCH\\n\\n\\n     ...\n",
       "3        not_racist  \\n\\n\\n          OLDER MAN\\n\\n          Im real...\n",
       "4        not_racist          Walt She was a real peach\\n\\n\\n          "
      ]
     },
     "execution_count": 4,
     "metadata": {},
     "output_type": "execute_result"
    }
   ],
   "source": [
    "dialogs_data = pd.read_csv(\"dialog_lines.csv\",encoding = \"UTF8\")\n",
    "dialogs_data.head()"
   ]
  },
  {
   "cell_type": "code",
   "execution_count": 5,
   "metadata": {},
   "outputs": [
    {
     "data": {
      "text/html": [
       "<div>\n",
       "<style scoped>\n",
       "    .dataframe tbody tr th:only-of-type {\n",
       "        vertical-align: middle;\n",
       "    }\n",
       "\n",
       "    .dataframe tbody tr th {\n",
       "        vertical-align: top;\n",
       "    }\n",
       "\n",
       "    .dataframe thead tr th {\n",
       "        text-align: left;\n",
       "    }\n",
       "\n",
       "    .dataframe thead tr:last-of-type th {\n",
       "        text-align: right;\n",
       "    }\n",
       "</style>\n",
       "<table border=\"1\" class=\"dataframe\">\n",
       "  <thead>\n",
       "    <tr>\n",
       "      <th></th>\n",
       "      <th colspan=\"4\" halign=\"left\">dialog_line</th>\n",
       "    </tr>\n",
       "    <tr>\n",
       "      <th></th>\n",
       "      <th>count</th>\n",
       "      <th>unique</th>\n",
       "      <th>top</th>\n",
       "      <th>freq</th>\n",
       "    </tr>\n",
       "    <tr>\n",
       "      <th>racist/not_racist</th>\n",
       "      <th></th>\n",
       "      <th></th>\n",
       "      <th></th>\n",
       "      <th></th>\n",
       "    </tr>\n",
       "  </thead>\n",
       "  <tbody>\n",
       "    <tr>\n",
       "      <th>not_racist</th>\n",
       "      <td>38514</td>\n",
       "      <td>32771</td>\n",
       "      <td>\\n\\n</td>\n",
       "      <td>304</td>\n",
       "    </tr>\n",
       "    <tr>\n",
       "      <th>racist</th>\n",
       "      <td>877</td>\n",
       "      <td>877</td>\n",
       "      <td>\\n\\n\\n\\n\\n          \\n\\n\\n\\n          \\n\\n    ...</td>\n",
       "      <td>1</td>\n",
       "    </tr>\n",
       "  </tbody>\n",
       "</table>\n",
       "</div>"
      ],
      "text/plain": [
       "                  dialog_line         \\\n",
       "                        count unique   \n",
       "racist/not_racist                      \n",
       "not_racist              38514  32771   \n",
       "racist                    877    877   \n",
       "\n",
       "                                                                           \n",
       "                                                                 top freq  \n",
       "racist/not_racist                                                          \n",
       "not_racist                                   \\n\\n                     304  \n",
       "racist             \\n\\n\\n\\n\\n          \\n\\n\\n\\n          \\n\\n    ...    1  "
      ]
     },
     "execution_count": 5,
     "metadata": {},
     "output_type": "execute_result"
    }
   ],
   "source": [
    "dialogs_data.groupby('racist/not_racist').describe()\n"
   ]
  },
  {
   "cell_type": "code",
   "execution_count": 6,
   "metadata": {},
   "outputs": [],
   "source": [
    "dialogs_data_copy = dialogs_data['dialog_line'].copy()\n"
   ]
  },
  {
   "cell_type": "code",
   "execution_count": 7,
   "metadata": {},
   "outputs": [],
   "source": [
    "def text_preprocess(text):\n",
    "    text = text.translate(str.maketrans('', '', string.punctuation))\n",
    "    text = [word for word in text.split() if word.lower() not in stopwords.words('english')]\n",
    "    return \" \".join(text)"
   ]
  },
  {
   "cell_type": "code",
   "execution_count": 8,
   "metadata": {},
   "outputs": [],
   "source": [
    "dialogs_data_copy = dialogs_data_copy.apply(text_preprocess)"
   ]
  },
  {
   "cell_type": "code",
   "execution_count": 9,
   "metadata": {},
   "outputs": [
    {
     "data": {
      "text/plain": [
       "0                                                         \n",
       "1                          GRAN TORINO Written Nick Schenk\n",
       "2                                          FADE INT CHURCH\n",
       "3                          OLDER MAN Im real sorry Dorothy\n",
       "4                                          Walt real peach\n",
       "                               ...                        \n",
       "39386                                Thanks clothes RICHIE\n",
       "39387    Youre welcome Frank glances away three young h...\n",
       "39388    Uhoh Look come gangsters Franks right path doe...\n",
       "39389    first one still staring Frank finally good sen...\n",
       "39390                 jacket props collar points direction\n",
       "Name: dialog_line, Length: 39391, dtype: object"
      ]
     },
     "execution_count": 9,
     "metadata": {},
     "output_type": "execute_result"
    }
   ],
   "source": [
    "dialogs_data_copy"
   ]
  },
  {
   "cell_type": "code",
   "execution_count": 10,
   "metadata": {},
   "outputs": [],
   "source": [
    "vectorizer = TfidfVectorizer()"
   ]
  },
  {
   "cell_type": "code",
   "execution_count": 11,
   "metadata": {},
   "outputs": [
    {
     "data": {
      "text/plain": [
       "<39391x23573 sparse matrix of type '<class 'numpy.float64'>'\n",
       "\twith 291287 stored elements in Compressed Sparse Row format>"
      ]
     },
     "execution_count": 11,
     "metadata": {},
     "output_type": "execute_result"
    }
   ],
   "source": [
    "dialogs_mat = vectorizer.fit_transform(dialogs_data_copy)\n",
    "dialogs_mat"
   ]
  },
  {
   "cell_type": "code",
   "execution_count": 16,
   "metadata": {},
   "outputs": [],
   "source": [
    "dialogs_train, dialogs_test, r_nr_train, r_nr_test = train_test_split(dialogs_mat, \n",
    "                                                        dialogs_data['racist/not_racist'], test_size=0.3, random_state=20)\n"
   ]
  },
  {
   "cell_type": "code",
   "execution_count": 18,
   "metadata": {},
   "outputs": [
    {
     "data": {
      "text/plain": [
       "0.9812150956168556"
      ]
     },
     "execution_count": 18,
     "metadata": {},
     "output_type": "execute_result"
    }
   ],
   "source": [
    "from sklearn.linear_model import LogisticRegression\n",
    "from sklearn.metrics import accuracy_score\n",
    "\n",
    "racist_model = LogisticRegression(solver='liblinear', penalty='l1')\n",
    "racist_model.fit(dialogs_train, r_nr_train)\n",
    "pred = racist_model.predict(dialogs_test)\n",
    "accuracy_score(r_nr_test,pred)"
   ]
  }
 ],
 "metadata": {
  "interpreter": {
   "hash": "08d3084121668768e852e6c8847875f2891314f0e7777835d5874d24554f93cd"
  },
  "kernelspec": {
   "display_name": "Python 3.8.10 64-bit ('env_proyecto_nlp': venv)",
   "language": "python",
   "name": "python3"
  },
  "language_info": {
   "codemirror_mode": {
    "name": "ipython",
    "version": 3
   },
   "file_extension": ".py",
   "mimetype": "text/x-python",
   "name": "python",
   "nbconvert_exporter": "python",
   "pygments_lexer": "ipython3",
   "version": "3.8.10"
  },
  "orig_nbformat": 4
 },
 "nbformat": 4,
 "nbformat_minor": 2
}
