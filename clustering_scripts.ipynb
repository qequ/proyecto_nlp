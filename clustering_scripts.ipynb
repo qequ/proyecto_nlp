{
 "cells": [
  {
   "cell_type": "code",
   "execution_count": 1,
   "metadata": {},
   "outputs": [
    {
     "name": "stdout",
     "output_type": "stream",
     "text": [
      "Tamaño del corpus: 4740654\n",
      "nlp max length: 1000000\n"
     ]
    }
   ],
   "source": [
    "import spacy\n",
    "import string\n",
    "\n",
    "def clean_text(corpus):\n",
    "    # Remove punctuations from the corpus\n",
    "    translator = str.maketrans('', '', string.punctuation)\n",
    "    corpus = corpus.translate(translator)\n",
    "\n",
    "    # Remove digits from the corpus\n",
    "    remove_digits = str.maketrans('', '', string.digits)\n",
    "    corpus = corpus.translate(remove_digits)\n",
    "    return corpus\n",
    "\n",
    "\n",
    "\n",
    "with open(\"scripts_concat.txt\", \"r\") as f:\n",
    "    scripts_string = f.read()\n",
    "\n",
    "corpus = clean_text(scripts_string)\n",
    "\n",
    "nlp = spacy.load('en_core_web_sm')\n",
    "\n",
    "\n",
    "print(\"Tamaño del corpus: {}\".format(len(corpus)))\n",
    "print(\"nlp max length: {}\".format(nlp.max_length))\n",
    "\n",
    "corpus_chunk = [corpus[i:i+nlp.max_length] for i in range (0,len(corpus), nlp.max_length)]\n",
    "\n",
    "\n",
    "# we process chunks of the corpus accoding to the max length of nlp\n",
    "\n",
    "docs = []\n",
    "for chunk in corpus_chunk:\n",
    "    doc = nlp(chunk)\n",
    "    docs.append(doc)\n",
    "\n"
   ]
  },
  {
   "cell_type": "markdown",
   "metadata": {},
   "source": [
    "# Análisis del texto"
   ]
  },
  {
   "cell_type": "code",
   "execution_count": 2,
   "metadata": {},
   "outputs": [
    {
     "name": "stdout",
     "output_type": "stream",
     "text": [
      "Total words:  656598\n",
      "Total verbs:  88254\n",
      "Total nouns:  85804\n",
      "Total people:  17500\n",
      "Total organizations:  6215\n"
     ]
    }
   ],
   "source": [
    "words = []\n",
    "nouns = []\n",
    "verbs = []\n",
    "people = []\n",
    "orgs = []\n",
    "\n",
    "\n",
    "for doc in docs:\n",
    "    for token in doc:\n",
    "        words.append(token.text)\n",
    "        if token.pos_ == \"VERB\":\n",
    "            verbs.append(token.text)\n",
    "            \n",
    "        if token.pos_ == \"NOUN\":\n",
    "            nouns.append(token.text)\n",
    "\n",
    "\n",
    "for doc in docs:\n",
    "    for ent in doc.ents:\n",
    "        if ent.label_ == \"ORG\":\n",
    "            orgs.append(ent.text)\n",
    "        if ent.label_ == \"PERSON\":\n",
    "            people.append(ent.text)\n",
    "\n",
    "print(\"Total words: \", len(words))\n",
    "print(\"Total verbs: \", len(verbs))\n",
    "print(\"Total nouns: \", len(nouns))\n",
    "print(\"Total people: \", len(people))\n",
    "print(\"Total organizations: \", len(orgs))"
   ]
  },
  {
   "cell_type": "markdown",
   "metadata": {},
   "source": [
    "## Contando palabras"
   ]
  },
  {
   "cell_type": "code",
   "execution_count": 3,
   "metadata": {},
   "outputs": [],
   "source": [
    "from collections import Counter\n",
    "from collections import OrderedDict\n",
    "\n",
    "def sort_by_frequency(data,reverse=True):\n",
    "    \"\"\" \n",
    "    Function to sord the data by its frequency\n",
    "    Returns ordered dictionary\n",
    "    Default: Sort in descending order\n",
    "        \n",
    "    \"\"\"\n",
    "    data_with_freq = dict(Counter(data))\n",
    "    data_sorted_by_freq = OrderedDict(sorted(data_with_freq.items(), key=lambda x: x[1],reverse=reverse))\n",
    "    \n",
    "    return data_sorted_by_freq\n",
    "\n",
    "words_frequency = sort_by_frequency(words)\n",
    "nouns_frequency = sort_by_frequency(nouns)\n",
    "verbs_frequency  = sort_by_frequency(verbs)\n",
    "people_frequency = sort_by_frequency(people)\n",
    "orgs_frequency = sort_by_frequency(orgs)\n",
    "\n",
    "#print(verbs_frequency)"
   ]
  },
  {
   "cell_type": "markdown",
   "metadata": {},
   "source": [
    "# Analizando Bigramas"
   ]
  },
  {
   "cell_type": "code",
   "execution_count": 6,
   "metadata": {},
   "outputs": [],
   "source": [
    "import nltk\n",
    "\n",
    "def create_bigram(tokens):\n",
    "    # Using words token generated from spacy to find bigram\n",
    "    bigrams_ = list(nltk.bigrams(tokens))\n",
    "    # Convert generator into list of tuples of bigram \n",
    "    bigrams = [\" \".join(bigram) for bigram in list(bigrams_)]\n",
    "\n",
    "    return bigrams\n",
    "\n",
    "bigrams = create_bigram(words)\n",
    "\n",
    "def get_racist_bigrams(bigrams):\n",
    "    with open(\"racist_slang.txt\", \"r\") as f:\n",
    "        racist_slang_list = f.read().split(\"\\n\")\n",
    "    \n",
    "    racist_bigrams = []\n",
    "    for bigram in bigrams:\n",
    "        if any(word in bigram for word in racist_slang_list):\n",
    "            racist_bigrams.append(bigram)\n",
    "    \n",
    "    return racist_bigrams\n",
    "\n"
   ]
  },
  {
   "cell_type": "code",
   "execution_count": 9,
   "metadata": {},
   "outputs": [
    {
     "data": {
      "image/png": "[encoded data removed]",
      "text/plain": [
       "<Figure size 432x288 with 1 Axes>"
      ]
     },
     "metadata": {
      "needs_background": "light"
     },
     "output_type": "display_data"
    }
   ],
   "source": [
    "import numpy as np\n",
    "import matplotlib.pyplot as plt\n",
    "\n",
    "\n",
    "def get_top_n_from_order_dict(ordered_dict,n):\n",
    "    \"\"\" Function to find n top object from ordered dictionary\"\"\"\n",
    "    return [list(ordered_dict.items())[i] for i in range(n)]\n",
    "\n",
    "\n",
    "def visualize_list_of_tuple(data):\n",
    "    \"\"\"\"\"\"\n",
    "    list1, list2 = zip(*data)\n",
    "    y_pos = np.arange(len(list1))\n",
    "    plt.barh(y_pos, list2, align='center' )\n",
    "    plt.yticks(y_pos, list1)\n",
    "    plt.show()\n",
    "\n",
    "top_racist_bigrams = get_top_n_from_order_dict(sort_by_frequency(get_racist_bigrams(bigrams)) , 20)\n",
    "# The most popular rascist slurs\n",
    "visualize_list_of_tuple(top_racist_bigrams)"
   ]
  },
  {
   "cell_type": "markdown",
   "metadata": {},
   "source": [
    "# Clustering"
   ]
  },
  {
   "cell_type": "markdown",
   "metadata": {},
   "source": [
    "## Clustering con monogramas"
   ]
  },
  {
   "cell_type": "code",
   "execution_count": 10,
   "metadata": {},
   "outputs": [
    {
     "name": "stdout",
     "output_type": "stream",
     "text": [
      "Matrix shape: (18771, 100)\n"
     ]
    },
    {
     "data": {
      "text/plain": [
       "KMeans(max_iter=150, n_clusters=10, n_init=1)"
      ]
     },
     "execution_count": 10,
     "metadata": {},
     "output_type": "execute_result"
    }
   ],
   "source": [
    "import spacy\n",
    "from gensim.models import Word2Vec\n",
    "import numpy as np\n",
    "from sklearn.cluster import KMeans\n",
    "from collections import Counter\n",
    "\n",
    "\n",
    "\n",
    "NUM_CLUSTERS = 10\n",
    "\n",
    "# funcion para normalizar el oraciones\n",
    "\n",
    "\n",
    "def normalize_sentence(span):\n",
    "    # sacamos stopwords y signos de puntuación\n",
    "    words = [t for t in span if not t.is_punct | t.is_stop]\n",
    "    # nos quedamos con tokens alfabéticos y con largo considerable\n",
    "    lexical_tokens = [t for t in words if len(t.orth_) > 3 and\n",
    "                      t.orth_.isalpha()]\n",
    "\n",
    "    # removemos pronombres\n",
    "    cleaned_lemmas = [tok.lemma_.lower()\n",
    "                      for tok in lexical_tokens if tok.pos_ != 'PRON']\n",
    "\n",
    "    return cleaned_lemmas\n",
    "\n",
    "\n",
    "def show_results(vocabulary, model):\n",
    "    # Show results\n",
    "    c = Counter(sorted(model.labels_))\n",
    "    print(\"\\nTotal clusters:\", len(c))\n",
    "    for cluster in c:\n",
    "        print(\"Cluster#\", cluster, \" - Total words:\", c[cluster])\n",
    "\n",
    "    # Show top terms and words per cluster\n",
    "    print(\"Top words per cluster:\")\n",
    "    print()\n",
    "\n",
    "    keysVocab = list(vocabulary.keys())\n",
    "    for n in range(len(c)):\n",
    "        print(\"Cluster %d\" % n)\n",
    "        print(\"Words:\", end='')\n",
    "        word_indexs = [i for i, x in enumerate(list(model.labels_)) if x == n]\n",
    "        for i in word_indexs:\n",
    "            print(' %s' % keysVocab[i], end=',')\n",
    "        print()\n",
    "        print()\n",
    "\n",
    "    print()\n",
    "\n",
    "\n",
    "\n",
    "lemmatized_sentences = []\n",
    "\n",
    "for doc in docs:\n",
    "    for span in doc.sents:\n",
    "        lemmatized_sentences.append(normalize_sentence(span))\n",
    "\n",
    "\n",
    "# entrenamos un modelo de word embeddings neuronales\n",
    "model = Word2Vec(lemmatized_sentences, min_count=1)\n",
    "vocabulary = model.wv.key_to_index\n",
    "\n",
    "# vectores que conseguimos del modelo\n",
    "vectors = []\n",
    "for word in vocabulary:\n",
    "    vectors.append(model.wv[word])\n",
    "\n",
    "matrix = np.array(vectors)\n",
    "print(\"Matrix shape:\", matrix.shape)\n",
    "\n",
    "# normalizamos matriz y reducimos dimensionalidad quitando columnas con poca varianza\n",
    "\n",
    "matrix_normed = matrix / matrix.max(axis=0)\n",
    "\n",
    "variances = np.square(matrix_normed).mean(axis=0) - \\\n",
    "    np.square(matrix_normed.mean(axis=0))\n",
    "VarianzaMin = 0.001\n",
    "red_matrix = np.delete(matrix_normed, np.where(\n",
    "    variances < VarianzaMin), axis=1)\n",
    "\n",
    "\n",
    "# Utilizamos el algoritmo de K-means de scikit-learn\n",
    "k_means_model = KMeans(n_clusters=NUM_CLUSTERS, init = \"k-means++\",max_iter=150,n_init=1)\n",
    "k_means_model.fit(red_matrix)\n",
    "\n",
    "\n",
    "#show_results(vocabulary, k_means_model)"
   ]
  },
  {
   "cell_type": "markdown",
   "metadata": {},
   "source": [
    "## Clustering sobre scripts completos"
   ]
  },
  {
   "cell_type": "code",
   "execution_count": 11,
   "metadata": {},
   "outputs": [],
   "source": [
    "from sklearn.pipeline import Pipeline\n",
    "from sklearn.feature_extraction.text import CountVectorizer\n",
    "from sklearn.feature_extraction.text import TfidfTransformer\n",
    "import time\n",
    "from sklearn.cluster import KMeans\n",
    "\n",
    "\n",
    "\n",
    "\n",
    "class DocumentCluster:\n",
    "    \"\"\"Class to cluster document\"\"\"\n",
    "    def __init__(self,model,data,labels):\n",
    "        self.model = model\n",
    "        self.data = data\n",
    "        self.labels = labels\n",
    "        self.model_name = self._get_model_name()\n",
    "        \n",
    "        self.cluster_pipeline = None\n",
    "        \n",
    "    \n",
    "    def _get_model_name(self):\n",
    "        \"\"\"Get name of model being used\"\"\"\n",
    "        model_name = str(self.model).split('(')[0]\n",
    "        return model_name\n",
    "            \n",
    "\n",
    "    \n",
    "    def train_model(self,ngram,use_idf):\n",
    "        \"\"\" \n",
    "            Train model\n",
    "            ngram: int\n",
    "            use_idf: bool\n",
    "            analyzer: string\n",
    "        \n",
    "        \"\"\"\n",
    "        current_time = time.time()\n",
    "        self._ngram = ngram\n",
    "        self._use_idf = use_idf\n",
    "        \n",
    "        # Set a pipeline\n",
    "        # 1. The first step of the pipeline is to find count vectorizer\n",
    "        # Countvectorizer converts a collection of text documents to a matrix of token counts\n",
    "        # This implementation produces a sparse representation of the counts\n",
    "        # 2. We then use TfidfTransformr\n",
    "        # TfidfTransformer transforms a count matrix to a normalized tf or tf-idf representation\n",
    "        # Tf means term-frequency while tf-idf means term-frequency times inverse document-frequency\n",
    "\n",
    "        self.cluster_pipeline = Pipeline([('vect', CountVectorizer(ngram_range=(1,ngram), \n",
    "                analyzer=\"word\")), ('tfidf', TfidfTransformer(use_idf=use_idf)), \n",
    "                ('model', self.model)])\n",
    "        self._cluster = self.cluster_pipeline.fit(self.data)\n",
    "        \n",
    "        self._train_time = time.time() - current_time\n",
    "        \n",
    "        \n",
    "        print(\"Training completed\")\n",
    "        print(\"Training time for {} : {} secs\".format(self.model_name, self._train_time))\n",
    "        \n",
    "    \n",
    "    def predict(self):\n",
    "        \"\"\"\n",
    "        Predict cluster id for all clusters\n",
    "        \"\"\"\n",
    "        self.label_id_dict = {}\n",
    "        self.document_id_dict = {}\n",
    "        self.cluster_id = []\n",
    "        for i, document in enumerate(self.data):\n",
    "            cluster_id = self.cluster_pipeline.predict([document])[0]\n",
    "            self.label_id_dict.update({self.labels[i]:cluster_id})\n",
    "            self.document_id_dict.update({document:cluster_id})\n",
    "            self.cluster_id.append(cluster_id)\n",
    "        \n",
    "        return self.label_id_dict, self.document_id_dict"
   ]
  },
  {
   "cell_type": "code",
   "execution_count": 12,
   "metadata": {},
   "outputs": [],
   "source": [
    "import json\n",
    "\n",
    "with open(\"movies_scripts.json\", \"r\") as f:\n",
    "    data = json.load(f)\n",
    "\n",
    "docs = list(map(lambda d: d[\"script\"], data.values()))\n",
    "labels = list(data.keys()) # the labels of each doc it's the name of the movie\n",
    "\n",
    "cleaned_docs = []\n",
    "for d in docs:\n",
    "    cleaned_docs.append(clean_text(d).lower())\n"
   ]
  },
  {
   "cell_type": "code",
   "execution_count": 13,
   "metadata": {},
   "outputs": [
    {
     "name": "stdout",
     "output_type": "stream",
     "text": [
      "Training completed\n",
      "Training time for KMeans : 1.8469018936157227 secs\n"
     ]
    },
    {
     "data": {
      "text/plain": [
       "{'gran torino': 3,\n",
       " 'american history x': 1,\n",
       " 'blackkklansman': 1,\n",
       " 'School ties': 1,\n",
       " 'race': 1,\n",
       " '42': 1,\n",
       " 'django': 1,\n",
       " 'red tails': 1,\n",
       " 'the green mile': 1,\n",
       " 'white chicks': 1,\n",
       " 'glory road': 1,\n",
       " 'ali': 0,\n",
       " 'a time to kill': 1,\n",
       " 'malcolm x': 0,\n",
       " 'finding forrester': 4,\n",
       " 'black cop': 1,\n",
       " 'get out': 2,\n",
       " 'Do the Right Thing': 1,\n",
       " 'Fruitvale Station': 1,\n",
       " '12 Years a Slave': 1,\n",
       " 'Born on the Fourth of July': 1,\n",
       " 'forrest gump': 1,\n",
       " 'Gangs of New York Script': 1}"
      ]
     },
     "execution_count": 13,
     "metadata": {},
     "output_type": "execute_result"
    }
   ],
   "source": [
    "cluster_num = 5\n",
    "model = KMeans(n_clusters=cluster_num, init = \"k-means++\",max_iter=150,n_init=1)\n",
    "\n",
    "doc_cluster = DocumentCluster(data=cleaned_docs,model=model,labels=labels)\n",
    "\n",
    "doc_cluster.train_model(ngram=2, use_idf=True)\n",
    "\n",
    "result_label, result_docs = doc_cluster.predict()\n",
    "\n",
    "\n",
    "result_label"
   ]
  },
  {
   "cell_type": "code",
   "execution_count": 33,
   "metadata": {},
   "outputs": [
    {
     "name": "stdout",
     "output_type": "stream",
     "text": [
      "number of cluster: 0\n",
      "number of cluster: 1\n",
      "number of cluster: 2\n",
      "number of cluster: 3\n",
      "number of cluster: 4\n"
     ]
    },
    {
     "data": {
      "text/plain": [
       "OrderedDict([('black guy', 5),\n",
       "             ('a black', 5),\n",
       "             ('black people', 3),\n",
       "             ('black and', 2),\n",
       "             ('and white', 2),\n",
       "             ('a white', 2),\n",
       "             ('other black', 2),\n",
       "             ('different black', 2),\n",
       "             ('small black', 1),\n",
       "             ('black dog', 1),\n",
       "             ('im black', 1),\n",
       "             ('black rose', 1),\n",
       "             ('my black', 1),\n",
       "             ('black boyfriend', 1),\n",
       "             ('first black', 1),\n",
       "             ('shiny white', 1),\n",
       "             ('white bmw', 1),\n",
       "             ('black wet', 1),\n",
       "             ('white framed', 1),\n",
       "             ('this black', 1),\n",
       "             ('white cat', 1),\n",
       "             ('black mold', 1),\n",
       "             ('welltodo white', 1),\n",
       "             ('white family', 1),\n",
       "             ('family black', 1),\n",
       "             ('black servants', 1),\n",
       "             ('pitch black', 1),\n",
       "             ('black abyss', 1),\n",
       "             ('timid black', 1),\n",
       "             ('black power', 1),\n",
       "             ('all white', 1),\n",
       "             ('white except', 1),\n",
       "             ('four white', 1),\n",
       "             ('white children', 1),\n",
       "             ('another black', 1),\n",
       "             ('black dude', 1),\n",
       "             ('rod nigga', 1),\n",
       "             ('nigga what', 1),\n",
       "             ('know white', 1),\n",
       "             ('white people', 1),\n",
       "             ('ate niggas', 1),\n",
       "             ('niggas heads', 1),\n",
       "             ('the black', 1),\n",
       "             ('on niggas', 1),\n",
       "             ('niggas and', 1),\n",
       "             ('black guest', 1),\n",
       "             ('the whitestmost', 1),\n",
       "             ('whitestmost dude', 1),\n",
       "             ('like white', 1),\n",
       "             ('white seeming', 1),\n",
       "             ('black guys', 1),\n",
       "             ('shes white', 1),\n",
       "             ('white detective', 1),\n",
       "             ('abducting black', 1),\n",
       "             ('you white', 1),\n",
       "             ('white girlsll', 1),\n",
       "             ('why black', 1),\n",
       "             ('youre black', 1),\n",
       "             ('black brown', 1),\n",
       "             ('white and', 1),\n",
       "             ('and black', 1),\n",
       "             ('black nurses', 1),\n",
       "             ('white robe', 1)])"
      ]
     },
     "execution_count": 33,
     "metadata": {},
     "output_type": "execute_result"
    }
   ],
   "source": [
    "\n",
    "# grouping texts by cluster\n",
    "\n",
    "clusters_text = []\n",
    "for i in range(cluster_num):\n",
    "    text = \" \".join([k for k,v in result_docs.items() if v == i])\n",
    "    clusters_text.append(text)\n",
    "\n",
    "\n",
    "# obteniendo los bigramas donde hay insinuaciones racistas \n",
    "\n",
    "def get_cluster_analysis_results(clusters_text):\n",
    "    racist_bigrams_per_cluster = []\n",
    "    for i, corpus in enumerate(clusters_text):\n",
    "        tokens = corpus.split()\n",
    "        bigrams = create_bigram(tokens)\n",
    "        print(\"number of cluster: {}\".format(i))\n",
    "        racist_bigrams_per_cluster.append(sort_by_frequency(get_racist_bigrams(bigrams)))\n",
    "\n",
    "\n",
    "\n",
    "    return racist_bigrams_per_cluster\n",
    "\n",
    "racist_bigrams_per_cluster = get_cluster_analysis_results(clusters_text)\n",
    "\n",
    "racist_bigrams_per_cluster[2]\n"
   ]
  }
 ],
 "metadata": {
  "interpreter": {
   "hash": "08d3084121668768e852e6c8847875f2891314f0e7777835d5874d24554f93cd"
  },
  "kernelspec": {
   "display_name": "Python 3.8.10 64-bit ('env_proyecto_nlp': venv)",
   "name": "python3"
  },
  "language_info": {
   "codemirror_mode": {
    "name": "ipython",
    "version": 3
   },
   "file_extension": ".py",
   "mimetype": "text/x-python",
   "name": "python",
   "nbconvert_exporter": "python",
   "pygments_lexer": "ipython3",
   "version": "3.8.10"
  },
  "orig_nbformat": 4
 },
 "nbformat": 4,
 "nbformat_minor": 2
}
