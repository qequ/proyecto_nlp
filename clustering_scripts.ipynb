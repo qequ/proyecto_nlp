{
 "cells": [
  {
   "cell_type": "code",
   "execution_count": 1,
   "metadata": {},
   "outputs": [
    {
     "name": "stdout",
     "output_type": "stream",
     "text": [
      "Tamaño del corpus: 4740654\n",
      "nlp max length: 1000000\n"
     ]
    }
   ],
   "source": [
    "import spacy\n",
    "import string\n",
    "\n",
    "def clean_text(corpus):\n",
    "    # Remove punctuations from the corpus\n",
    "    translator = str.maketrans('', '', string.punctuation)\n",
    "    corpus = corpus.translate(translator)\n",
    "\n",
    "    # Remove digits from the corpus\n",
    "    remove_digits = str.maketrans('', '', string.digits)\n",
    "    corpus = corpus.translate(remove_digits)\n",
    "    return corpus\n",
    "\n",
    "\n",
    "\n",
    "with open(\"scripts_concat.txt\", \"r\") as f:\n",
    "    scripts_string = f.read()\n",
    "\n",
    "corpus = clean_text(scripts_string)\n",
    "\n",
    "nlp = spacy.load('en_core_web_sm')\n",
    "\n",
    "\n",
    "print(\"Tamaño del corpus: {}\".format(len(corpus)))\n",
    "print(\"nlp max length: {}\".format(nlp.max_length))\n",
    "\n",
    "corpus_chunk = [corpus[i:i+nlp.max_length] for i in range (0,len(corpus), nlp.max_length)]\n",
    "\n",
    "\n",
    "# we process chunks of the corpus accoding to the max length of nlp\n",
    "\n",
    "docs = []\n",
    "for chunk in corpus_chunk:\n",
    "    doc = nlp(chunk)\n",
    "    docs.append(doc)\n",
    "\n"
   ]
  },
  {
   "cell_type": "markdown",
   "metadata": {},
   "source": [
    "# Análisis del texto"
   ]
  },
  {
   "cell_type": "code",
   "execution_count": 2,
   "metadata": {},
   "outputs": [
    {
     "name": "stdout",
     "output_type": "stream",
     "text": [
      "Total words:  656598\n",
      "Total verbs:  88254\n",
      "Total nouns:  85804\n",
      "Total people:  17500\n",
      "Total organizations:  6215\n"
     ]
    }
   ],
   "source": [
    "words = []\n",
    "nouns = []\n",
    "verbs = []\n",
    "people = []\n",
    "orgs = []\n",
    "\n",
    "\n",
    "for doc in docs:\n",
    "    for token in doc:\n",
    "        words.append(token.text)\n",
    "        if token.pos_ == \"VERB\":\n",
    "            verbs.append(token.text)\n",
    "            \n",
    "        if token.pos_ == \"NOUN\":\n",
    "            nouns.append(token.text)\n",
    "\n",
    "\n",
    "for doc in docs:\n",
    "    for ent in doc.ents:\n",
    "        if ent.label_ == \"ORG\":\n",
    "            orgs.append(ent.text)\n",
    "        if ent.label_ == \"PERSON\":\n",
    "            people.append(ent.text)\n",
    "\n",
    "print(\"Total words: \", len(words))\n",
    "print(\"Total verbs: \", len(verbs))\n",
    "print(\"Total nouns: \", len(nouns))\n",
    "print(\"Total people: \", len(people))\n",
    "print(\"Total organizations: \", len(orgs))"
   ]
  },
  {
   "cell_type": "markdown",
   "metadata": {},
   "source": [
    "## Contando palabras"
   ]
  },
  {
   "cell_type": "code",
   "execution_count": 3,
   "metadata": {},
   "outputs": [],
   "source": [
    "from collections import Counter\n",
    "from collections import OrderedDict\n",
    "\n",
    "def sort_by_frequency(data,reverse=True):\n",
    "    \"\"\" \n",
    "    Function to sord the data by its frequency\n",
    "    Returns ordered dictionary\n",
    "    Default: Sort in descending order\n",
    "        \n",
    "    \"\"\"\n",
    "    data_with_freq = dict(Counter(data))\n",
    "    data_sorted_by_freq = OrderedDict(sorted(data_with_freq.items(), key=lambda x: x[1],reverse=reverse))\n",
    "    \n",
    "    return data_sorted_by_freq\n",
    "\n",
    "words_frequency = sort_by_frequency(words)\n",
    "nouns_frequency = sort_by_frequency(nouns)\n",
    "verbs_frequency  = sort_by_frequency(verbs)\n",
    "people_frequency = sort_by_frequency(people)\n",
    "orgs_frequency = sort_by_frequency(orgs)\n",
    "\n",
    "#print(verbs_frequency)"
   ]
  },
  {
   "cell_type": "markdown",
   "metadata": {},
   "source": [
    "# Analizando Bigramas"
   ]
  },
  {
   "cell_type": "code",
   "execution_count": 4,
   "metadata": {},
   "outputs": [],
   "source": [
    "import nltk\n",
    "\n",
    "def create_bigram(tokens):\n",
    "    # Using words token generated from spacy to find bigram\n",
    "    bigrams_ = list(nltk.bigrams(tokens))\n",
    "    # Convert generator into list of tuples of bigram \n",
    "    bigrams = [\" \".join(bigram) for bigram in list(bigrams_)]\n",
    "\n",
    "    return bigrams\n",
    "\n",
    "bigrams = create_bigram(words)\n",
    "\n",
    "def get_racist_bigrams(bigrams):\n",
    "    with open(\"racist_slang.txt\", \"r\") as f:\n",
    "        racist_slang_list = f.read().split(\"\\n\")\n",
    "    \n",
    "    racist_bigrams = []\n",
    "    for bigram in bigrams:\n",
    "        if any(word in bigram for word in racist_slang_list):\n",
    "            racist_bigrams.append(bigram)\n",
    "    \n",
    "    return racist_bigrams\n",
    "\n"
   ]
  },
  {
   "cell_type": "code",
   "execution_count": 5,
   "metadata": {},
   "outputs": [
    {
     "data": {
      "image/png": "[encoded data removed]",
      "text/plain": [
       "<Figure size 432x288 with 1 Axes>"
      ]
     },
     "metadata": {
      "needs_background": "light"
     },
     "output_type": "display_data"
    }
   ],
   "source": [
    "import numpy as np\n",
    "import matplotlib.pyplot as plt\n",
    "\n",
    "\n",
    "def get_top_n_from_order_dict(ordered_dict,n):\n",
    "    \"\"\" Function to find n top object from ordered dictionary\"\"\"\n",
    "    return [list(ordered_dict.items())[i] for i in range(n)]\n",
    "\n",
    "\n",
    "def visualize_list_of_tuple(data):\n",
    "    \"\"\"\"\"\"\n",
    "    list1, list2 = zip(*data)\n",
    "    y_pos = np.arange(len(list1))\n",
    "    plt.barh(y_pos, list2, align='center' )\n",
    "    plt.yticks(y_pos, list1)\n",
    "    plt.show()\n",
    "\n",
    "top_racist_bigrams = get_top_n_from_order_dict(sort_by_frequency(get_racist_bigrams(bigrams)) , 20)\n",
    "# The most popular rascist slurs\n",
    "visualize_list_of_tuple(top_racist_bigrams)"
   ]
  },
  {
   "cell_type": "markdown",
   "metadata": {},
   "source": [
    "# Clustering"
   ]
  },
  {
   "cell_type": "markdown",
   "metadata": {},
   "source": [
    "## Clustering con monogramas"
   ]
  },
  {
   "cell_type": "code",
   "execution_count": 6,
   "metadata": {},
   "outputs": [
    {
     "name": "stdout",
     "output_type": "stream",
     "text": [
      "Matrix shape: (18771, 100)\n"
     ]
    },
    {
     "data": {
      "text/plain": [
       "KMeans(max_iter=150, n_clusters=10, n_init=1)"
      ]
     },
     "execution_count": 6,
     "metadata": {},
     "output_type": "execute_result"
    }
   ],
   "source": [
    "import spacy\n",
    "from gensim.models import Word2Vec\n",
    "import numpy as np\n",
    "from sklearn.cluster import KMeans\n",
    "from collections import Counter\n",
    "\n",
    "\n",
    "\n",
    "NUM_CLUSTERS = 10\n",
    "\n",
    "# funcion para normalizar el oraciones\n",
    "\n",
    "\n",
    "def normalize_sentence(span):\n",
    "    # sacamos stopwords y signos de puntuación\n",
    "    words = [t for t in span if not t.is_punct | t.is_stop]\n",
    "    # nos quedamos con tokens alfabéticos y con largo considerable\n",
    "    lexical_tokens = [t for t in words if len(t.orth_) > 3 and\n",
    "                      t.orth_.isalpha()]\n",
    "\n",
    "    # removemos pronombres\n",
    "    cleaned_lemmas = [tok.lemma_.lower()\n",
    "                      for tok in lexical_tokens if tok.pos_ != 'PRON']\n",
    "\n",
    "    return cleaned_lemmas\n",
    "\n",
    "\n",
    "def show_results(vocabulary, model):\n",
    "    # Show results\n",
    "    c = Counter(sorted(model.labels_))\n",
    "    print(\"\\nTotal clusters:\", len(c))\n",
    "    for cluster in c:\n",
    "        print(\"Cluster#\", cluster, \" - Total words:\", c[cluster])\n",
    "\n",
    "    # Show top terms and words per cluster\n",
    "    print(\"Top words per cluster:\")\n",
    "    print()\n",
    "\n",
    "    keysVocab = list(vocabulary.keys())\n",
    "    for n in range(len(c)):\n",
    "        print(\"Cluster %d\" % n)\n",
    "        print(\"Words:\", end='')\n",
    "        word_indexs = [i for i, x in enumerate(list(model.labels_)) if x == n]\n",
    "        for i in word_indexs:\n",
    "            print(' %s' % keysVocab[i], end=',')\n",
    "        print()\n",
    "        print()\n",
    "\n",
    "    print()\n",
    "\n",
    "\n",
    "\n",
    "lemmatized_sentences = []\n",
    "\n",
    "for doc in docs:\n",
    "    for span in doc.sents:\n",
    "        lemmatized_sentences.append(normalize_sentence(span))\n",
    "\n",
    "\n",
    "# entrenamos un modelo de word embeddings neuronales\n",
    "model = Word2Vec(lemmatized_sentences, min_count=1)\n",
    "vocabulary = model.wv.key_to_index\n",
    "\n",
    "# vectores que conseguimos del modelo\n",
    "vectors = []\n",
    "for word in vocabulary:\n",
    "    vectors.append(model.wv[word])\n",
    "\n",
    "matrix = np.array(vectors)\n",
    "print(\"Matrix shape:\", matrix.shape)\n",
    "\n",
    "# normalizamos matriz y reducimos dimensionalidad quitando columnas con poca varianza\n",
    "\n",
    "matrix_normed = matrix / matrix.max(axis=0)\n",
    "\n",
    "variances = np.square(matrix_normed).mean(axis=0) - \\\n",
    "    np.square(matrix_normed.mean(axis=0))\n",
    "VarianzaMin = 0.001\n",
    "red_matrix = np.delete(matrix_normed, np.where(\n",
    "    variances < VarianzaMin), axis=1)\n",
    "\n",
    "\n",
    "# Utilizamos el algoritmo de K-means de scikit-learn\n",
    "k_means_model = KMeans(n_clusters=NUM_CLUSTERS, init = \"k-means++\",max_iter=150,n_init=1)\n",
    "k_means_model.fit(red_matrix)\n",
    "\n",
    "\n",
    "#show_results(vocabulary, k_means_model)"
   ]
  },
  {
   "cell_type": "markdown",
   "metadata": {},
   "source": [
    "## Clustering sobre scripts completos"
   ]
  },
  {
   "cell_type": "code",
   "execution_count": 7,
   "metadata": {},
   "outputs": [],
   "source": [
    "from sklearn.pipeline import Pipeline\n",
    "from sklearn.feature_extraction.text import CountVectorizer\n",
    "from sklearn.feature_extraction.text import TfidfTransformer\n",
    "import time\n",
    "from sklearn.cluster import KMeans\n",
    "\n",
    "\n",
    "\n",
    "\n",
    "class DocumentCluster:\n",
    "    \"\"\"Class to cluster document\"\"\"\n",
    "    def __init__(self,model,data,labels):\n",
    "        self.model = model\n",
    "        self.data = data\n",
    "        self.labels = labels\n",
    "        self.model_name = self._get_model_name()\n",
    "        \n",
    "        self.cluster_pipeline = None\n",
    "        \n",
    "    \n",
    "    def _get_model_name(self):\n",
    "        \"\"\"Get name of model being used\"\"\"\n",
    "        model_name = str(self.model).split('(')[0]\n",
    "        return model_name\n",
    "            \n",
    "\n",
    "    \n",
    "    def train_model(self,ngram,use_idf):\n",
    "        \"\"\" \n",
    "            Train model\n",
    "            ngram: int\n",
    "            use_idf: bool\n",
    "            analyzer: string\n",
    "        \n",
    "        \"\"\"\n",
    "        current_time = time.time()\n",
    "        self._ngram = ngram\n",
    "        self._use_idf = use_idf\n",
    "        \n",
    "        # Set a pipeline\n",
    "        # 1. The first step of the pipeline is to find count vectorizer\n",
    "        # Countvectorizer converts a collection of text documents to a matrix of token counts\n",
    "        # This implementation produces a sparse representation of the counts\n",
    "        # 2. We then use TfidfTransformr\n",
    "        # TfidfTransformer transforms a count matrix to a normalized tf or tf-idf representation\n",
    "        # Tf means term-frequency while tf-idf means term-frequency times inverse document-frequency\n",
    "\n",
    "        self.cluster_pipeline = Pipeline([('vect', CountVectorizer(ngram_range=(1,ngram), \n",
    "                analyzer=\"word\")), ('tfidf', TfidfTransformer(use_idf=use_idf)), \n",
    "                ('model', self.model)])\n",
    "        self._cluster = self.cluster_pipeline.fit(self.data)\n",
    "        \n",
    "        self._train_time = time.time() - current_time\n",
    "        \n",
    "        \n",
    "        print(\"Training completed\")\n",
    "        print(\"Training time for {} : {} secs\".format(self.model_name, self._train_time))\n",
    "        \n",
    "    \n",
    "    def predict(self):\n",
    "        \"\"\"\n",
    "        Predict cluster id for all clusters\n",
    "        \"\"\"\n",
    "        self.label_id_dict = {}\n",
    "        self.document_id_dict = {}\n",
    "        self.cluster_id = []\n",
    "        for i, document in enumerate(self.data):\n",
    "            cluster_id = self.cluster_pipeline.predict([document])[0]\n",
    "            self.label_id_dict.update({self.labels[i]:cluster_id})\n",
    "            self.document_id_dict.update({document:cluster_id})\n",
    "            self.cluster_id.append(cluster_id)\n",
    "        \n",
    "        return self.label_id_dict, self.document_id_dict"
   ]
  },
  {
   "cell_type": "code",
   "execution_count": 8,
   "metadata": {},
   "outputs": [],
   "source": [
    "import json\n",
    "\n",
    "with open(\"movies_scripts.json\", \"r\") as f:\n",
    "    data = json.load(f)\n",
    "\n",
    "docs = list(map(lambda d: d[\"script\"], data.values()))\n",
    "labels = list(data.keys()) # the labels of each doc it's the name of the movie\n",
    "\n",
    "cleaned_docs = []\n",
    "for d in docs:\n",
    "    cleaned_docs.append(clean_text(d).lower())\n"
   ]
  },
  {
   "cell_type": "code",
   "execution_count": 9,
   "metadata": {},
   "outputs": [
    {
     "name": "stdout",
     "output_type": "stream",
     "text": [
      "Training completed\n",
      "Training time for KMeans : 1.8328430652618408 secs\n"
     ]
    },
    {
     "data": {
      "text/plain": [
       "{'gran torino': 2,\n",
       " 'american history x': 0,\n",
       " 'blackkklansman': 2,\n",
       " 'School ties': 2,\n",
       " 'race': 2,\n",
       " '42': 2,\n",
       " 'django': 2,\n",
       " 'red tails': 4,\n",
       " 'the green mile': 2,\n",
       " 'white chicks': 2,\n",
       " 'glory road': 2,\n",
       " 'ali': 2,\n",
       " 'a time to kill': 4,\n",
       " 'malcolm x': 2,\n",
       " 'finding forrester': 2,\n",
       " 'black cop': 1,\n",
       " 'get out': 2,\n",
       " 'Do the Right Thing': 2,\n",
       " 'Fruitvale Station': 2,\n",
       " '12 Years a Slave': 2,\n",
       " 'Born on the Fourth of July': 2,\n",
       " 'forrest gump': 3,\n",
       " 'Gangs of New York Script': 2}"
      ]
     },
     "execution_count": 9,
     "metadata": {},
     "output_type": "execute_result"
    }
   ],
   "source": [
    "cluster_num = 5\n",
    "model = KMeans(n_clusters=cluster_num, init = \"k-means++\",max_iter=150,n_init=1)\n",
    "\n",
    "doc_cluster = DocumentCluster(data=cleaned_docs,model=model,labels=labels)\n",
    "\n",
    "doc_cluster.train_model(ngram=2, use_idf=True)\n",
    "\n",
    "result_label, result_docs = doc_cluster.predict()\n",
    "\n",
    "\n",
    "result_label"
   ]
  },
  {
   "cell_type": "code",
   "execution_count": 10,
   "metadata": {},
   "outputs": [
    {
     "name": "stdout",
     "output_type": "stream",
     "text": [
      "cluster 0\n",
      "OrderedDict([('black man', 13), ('a black', 9), ('the white', 8), ('the black', 7), ('of white', 5), ('black woman', 5), ('white power', 3), ('black and', 3), ('a nigger', 3), ('white people', 3), ('black gang', 2), ('is white', 2), ('white trash', 2), ('white race', 2), ('fuckin nigger', 2), ('a white', 2), ('murray white', 2), ('and white', 2), ('white guys', 2), ('white table', 2), ('white girl', 2), ('black girl', 2), ('black ford', 1), ('two black', 1), ('black men', 1), ('black rose', 1), ('black guy', 1), ('his black', 1), ('black combat', 1), ('black guard', 1), ('to black', 1), ('black three', 1), ('promotes white', 1), ('organized white', 1), ('white gangs', 1), ('just black', 1), ('criminals blackbrown', 1), ('blackbrown yellowwhatever', 1), ('black community', 1), ('the nonwhite', 1), ('nonwhite look', 1), ('white europeans', 1), ('nigger neighborhood', 1), ('plain white', 1), ('white backpack', 1), ('with punkwhite', 1), ('punkwhite power', 1), ('in black', 1), ('black cromagnons', 1), ('young black', 1), ('black kid', 1), ('dog black', 1), ('of black', 1), ('of blacks', 1), ('blacks and', 1), ('and whites', 1), ('whites and', 1), ('and black', 1), ('predominantly black', 1), ('black team', 1), ('this negro', 1), ('negro down', 1), ('eleven black', 1), ('black boys', 1), ('white boys', 1), ('court black', 1), ('black versus', 1), ('versus white', 1), ('white no', 1), ('white one', 1), ('is black', 1), ('black a', 1), ('black players', 1), ('that white', 1), ('the negroid', 1), ('negroid danny', 1), ('jeans black', 1), ('black boots', 1), ('tv nigger', 1), ('nigger he', 1), ('welldressed black', 1), ('random black', 1), ('black protestors', 1), ('background black', 1), ('now whites', 1), ('whites will', 1), ('black panthers', 1), ('davina black', 1), ('down black', 1), ('seth nigger', 1), ('nigger lovin', 1), ('fuckin white', 1), ('isnt white', 1), ('white protestant', 1), ('be black', 1), ('black these', 1), ('on white', 1), ('white fuckin', 1), ('black jacket', 1), ('nigger on', 1), ('nigger is', 1), ('nigger derek', 1), ('white souped', 1), ('bodies white', 1), ('white punkssick', 1), ('by black', 1), ('nigger now', 1), ('terrified white', 1), ('white woman', 1), ('black checker', 1), ('white men', 1), ('then white', 1), ('white americans', 1), ('struggling black', 1), ('black cromag', 1), ('that nigger', 1), ('nigger turns', 1), ('white christmas', 1), ('older white', 1), ('black cowboy', 1), ('listens white', 1), ('meanwhile niggers', 1), ('niggers and', 1), ('two niggers', 1), ('niggers deserved', 1), ('to blackness', 1), ('blackness intext', 1), ('chattering black', 1), ('righteous white', 1), ('white cracker', 1), ('the nigger', 1), ('nigger in', 1), ('two white', 1), ('white mans', 1), ('white aryans', 1), ('few black', 1), ('black prisoners', 1), ('with whites', 1), ('whites gooks', 1), ('cause whites', 1), ('whites wont', 1), ('givin niggers', 1), ('niggers everything', 1), ('white homeless', 1), ('sharplooking black', 1), ('menu black', 1), ('white meat', 1), ('nicely black', 1), ('problems white', 1), ('you black', 1), ('tyrone black', 1), ('race white', 1), ('africaamerica black', 1), ('us white', 1), ('white folk', 1), ('are black', 1), ('white women', 1), ('white womenbein', 1), ('white vehicle', 1), ('look black', 1), ('name black', 1), ('smiles black', 1), ('black mother', 1), ('small black', 1), ('black fingers', 1)])\n",
      "cluster 1\n",
      "OrderedDict([('black rock', 19), ('of black', 4), ('shot black', 3), ('a black', 3), ('at black', 2), ('black rocks', 2), ('street black', 2), ('for black', 2), ('about black', 2), ('ext black', 2), ('the black', 2), ('identified black', 1), ('black stony', 1), ('into black', 1), ('black cuban', 1), ('and blackened', 1), ('blackened earth', 1), ('and black', 1), ('black letters', 1), ('little black', 1), ('black medical', 1), ('black alcove', 1), ('toward black', 1), ('night black', 1), ('black on', 1), ('on black', 1), ('black out', 1), ('black ashy', 1), ('hotel black', 1), ('black velvetcovered', 1)])\n",
      "cluster 2\n",
      "OrderedDict([('the black', 110), ('a black', 101), ('the white', 99), ('a white', 92), ('white man', 82), ('black man', 68), ('a nigger', 49), ('black people', 43), ('to black', 34), ('of black', 33), ('black and', 32), ('black guy', 31), ('white men', 30), ('and white', 29), ('nigger run', 27), ('tall black', 22), ('white people', 22), ('run nigger', 22), ('white and', 20), ('white folks', 18), ('black woman', 18), ('that nigger', 17), ('black men', 17), ('and black', 16), ('the negro', 16), ('black white', 16), ('white house', 15), ('of white', 14), ('black folks', 13), ('a negro', 13), ('white mans', 13), ('with white', 13), ('this nigger', 13), ('in black', 11), ('that black', 11), ('white woman', 10), ('black the', 10), ('is black', 10), ('black student', 9), ('nigger and', 9), ('in blackness', 9), ('black guys', 8), ('you black', 8), ('black power', 8), ('niggers are', 8), ('all white', 8), ('were black', 8), ('house niggers', 8), ('no white', 8), ('the niggers', 8), ('the nigger', 8), ('black legion', 8), ('old black', 7), ('black leather', 7), ('some black', 7), ('are black', 7), ('be black', 7), ('white boy', 7), ('black a', 7), ('my nigger', 7), ('black in', 7), ('black ext', 7), ('photo black', 7), ('white male', 6), ('white race', 6), ('for black', 6), ('this black', 6), ('white america', 6), ('true white', 6), ('good white', 6), ('black ass', 6), ('from black', 6), ('white boys', 6), ('black boy', 6), ('to white', 6), ('negro leaders', 6), ('white girl', 6), ('blackness a', 6), ('black masses', 6), ('black int', 5), ('one black', 5), ('white devil', 5), ('young black', 5), ('on black', 5), ('negroes in', 5), ('bless white', 5), ('niggers and', 5), ('black hands', 5), ('white as', 5), ('other white', 5), ('white faces', 5), ('im black', 5), ('nigger i', 5), ('in white', 5), ('two black', 5), ('is white', 5), ('that white', 5), ('like white', 5), ('nigger in', 5), ('your nigger', 5), ('black males', 5), ('the blacks', 5), ('your niggers', 5), ('white masters', 5), ('black slaver', 5), ('your black', 5), ('nigger fight', 5), ('the whites', 5), ('nigger that', 5), ('black suit', 5), ('black mans', 5), ('white shirt', 5), ('black muslim', 5), ('are white', 5), ('me black', 5), ('ass nigga', 5), ('this white', 4), ('of blacks', 4), ('black faces', 4), ('black you', 4), ('black mass', 4), ('these niggers', 4), ('dead nigger', 4), ('white light', 4), ('black bastard', 4), ('black sand', 4), ('of negro', 4), ('black neighborhood', 4), ('white rickey', 4), ('nigger on', 4), ('little white', 4), ('two white', 4), ('nigger is', 4), ('my niggers', 4), ('nigger gal', 4), ('his black', 4), ('nigger you', 4), ('right nigger', 4), ('white trash', 4), ('and nigger', 4), ('black muslims', 4), ('negro in', 4), ('new white', 4), ('other black', 4), ('whitehot sun', 4), ('away nigger', 4), ('white leader', 4), ('black servicemen', 4), ('white with', 3), ('white officer', 3), ('white children', 3), ('black male', 3), ('black panthers', 3), ('white skin', 3), ('by white', 3), ('white s', 3), ('big white', 3), ('be white', 3), ('niggers niggers', 3), ('niggers selling', 3), ('her black', 3), ('nigger girl', 3), ('white american', 3), ('another white', 3), ('was white', 3), ('white christian', 3), ('nigger lover', 3), ('niggers that', 3), ('goes white', 3), ('black we', 3), ('white jack', 3), ('black face', 3), ('white couple', 3), ('dozen white', 3), ('these white', 3), ('white were', 3), ('black or', 3), ('hey black', 3), ('white the', 3), ('their white', 3), ('pitch black', 3), ('field nigger', 3), ('for niggers', 3), ('niggers to', 3), ('nigger gals', 3), ('nigger here', 3), ('on white', 3), ('of niggers', 3), ('kill white', 3), ('ugly white', 3), ('black women', 3), ('some white', 3), ('niggers i', 3), ('a niggers', 3), ('niggers ass', 3), ('these niggas', 3), ('no black', 3), ('big black', 3), ('one white', 3), ('black i', 3), ('small black', 3), ('house nigger', 3), ('black insects', 3), ('skinny white', 3), ('white sheet', 3), ('the blackness', 3), ('his white', 3), ('cheap black', 3), ('black sunovabitch', 3), ('first white', 3), ('white customer', 3), ('white one', 3), ('black malcolm', 3), ('white bembry', 3), ('black convict', 3), ('white but', 3), ('socalled negro', 3), ('negro close', 3), ('field negroes', 3), ('long black', 3), ('blacks are', 3), ('black me', 3), ('my nigga', 3), ('white snapshot', 3), ('mm black', 3), ('niggers the', 2), ('white kid', 2), ('three black', 2), ('only white', 2), ('handsome white', 2), ('black soldiers', 2), ('white women', 2), ('black beasts', 2), ('northern black', 2), ('stallworth black', 2), ('nigger ron', 2), ('black cop', 2), ('you nigger', 2), ('white face', 2), ('black ron', 2), ('several black', 2), ('black panther', 2), ('being black', 2), ('power black', 2), ('night black', 2), ('those niggers', 2), ('pure white', 2), ('white supremacist', 2), ('her white', 2), ('negro ron', 2), ('white ron', 2), ('with niggers', 2), ('niggers ivanhoe', 2), ('fuckin niggers', 2), ('niggers make', 2), ('nigger felix', 2), ('for white', 2), ('up white', 2), ('your white', 2), ('running nigger', 2), ('nigger target', 2), ('black silhouette', 2), ('running black', 2), ('for nigger', 2), ('nigger flip', 2), ('good niggers', 2), ('many niggers', 2), ('dem niggers', 2), ('nigger now', 2), ('lil nigger', 2), ('dead black', 2), ('black bitch', 2), ('ya black', 2), ('one nigger', 2), ('nigger detective', 2), ('black body', 2), ('white foam', 2), ('white stripes', 2), ('the blackout', 2), ('wearing black', 2), ('black sunglasses', 2), ('white white', 2), ('white we', 2), ('were white', 2), ('int white', 2), ('white smith', 2), ('over white', 2), ('white only', 2), ('white players', 2), ('black one', 2), ('middleaged white', 2), ('black fans', 2), ('young negro', 2), ('black players', 2), ('black section', 2), ('niggers dont', 2), ('older black', 2), ('white int', 2), ('white bragan', 2), ('negroes are', 2), ('as black', 2), ('black nigger', 2), ('white girls', 2), ('black as', 2), ('white shirts', 2), ('dbl white', 2), ('white rev', 2), ('chicago white', 2), ('their black', 2), ('black night', 2), ('white fur', 2), ('unshaven white', 2), ('white hands', 2), ('white workers', 2), ('other niggers', 2), ('niggers around', 2), ('three white', 2), ('blacks at', 2), ('nigger kill', 2), ('white audience', 2), ('black title', 2), ('young white', 2), ('niggers stink', 2), ('you niggers', 2), ('that niggers', 2), ('black girl', 2), ('white lace', 2), ('rich white', 2), ('black slaves', 2), ('sweaty black', 2), ('black girls', 2), ('other nigger', 2), ('nigger fightin', 2), ('nigger from', 2), ('ass niggers', 2), ('a nigga', 2), ('nigger like', 2), ('nigger however', 2), ('black its', 2), ('nigger up', 2), ('nigger there', 2), ('fightin nigger', 2), ('nigger so', 2), ('big nigger', 2), ('his nigger', 2), ('nigger it', 2), ('nigger bitch', 2), ('niggers nuts', 2), ('niggers we', 2), ('about black', 2), ('fancy black', 2), ('white friend', 2), ('all black', 2), ('five white', 2), ('shiny black', 2), ('black mask', 2), ('turn white', 2), ('white he', 2), ('black they', 2), ('the whiteness', 2), ('into black', 2), ('black correspondent', 2), ('black theyre', 2), ('black because', 2), ('over black', 2), ('white jesus', 2), ('these negro', 2), ('white towels', 2), ('whites and', 2), ('white policemen', 2), ('first black', 2), ('very black', 2), ('of whites', 2), ('black but', 2), ('aint white', 2), ('white breasts', 2), ('nigger malcolm', 2), ('angle black', 2), ('close black', 2), ('leader black', 2), ('black fade', 2), ('white malcolm', 2), ('black was', 2), ('he black', 2), ('or white', 2), ('white or', 2), ('black barber', 2), ('mostly white', 2), ('black convicts', 2), ('not black', 2), ('black christians', 2), ('socalled negroes', 2), ('because black', 2), ('black before', 2), ('black supremacy', 2), ('against negroes', 2), ('negro panelist', 2), ('house negro', 2), ('white coed', 2), ('my whiteness', 2), ('whiteness what', 2), ('black nationalism', 2), ('black brown', 2), ('nigger of', 2), ('my black', 2), ('different black', 2), ('the whitehot', 2), ('anglewhite convertible', 2), ('nigger this', 2), ('are niggers', 2), ('white me', 2), ('him black', 2), ('black card', 2), ('nigga sophina', 2), ('and whites', 2), ('nigga huh', 2), ('black crepe', 2), ('nigger flew', 2), ('nigger platt', 2), ('white maple', 2), ('nigger my', 2), ('white photos', 2), ('white of', 2), ('mans black', 2), ('black magic', 2), ('white cloth', 1), ('a blackandwhite', 1), ('blackandwhite photo', 1), ('hairy white', 1), ('teeth black', 1), ('rice niggers', 1), ('turns white', 1), ('urban white', 1), ('black pickup', 1), ('strange white', 1), ('white person', 1), ('thick black', 1), ('white honda', 1), ('black sharpie', 1), ('black ink', 1), ('home white', 1), ('white soldiers', 1), ('white police', 1), ('some whitetrash', 1), ('whitetrash hillbilly', 1), ('end blackkklansman', 1), ('blackkklansman written', 1), ('compelling white', 1), ('black coffin', 1), ('fields blacks', 1), ('blacks shining', 1), ('holy white', 1), ('white protestant', 1), ('precious white', 1), ('white child', 1), ('with negroes', 1), ('negroes footage', 1), ('stereotype blacks', 1), ('blacks coons', 1), ('shining black', 1), ('black mammies', 1), ('mammies black', 1), ('pushing whites', 1), ('whites around', 1), ('blacks compared', 1), ('craving black', 1), ('controlling negroes', 1), ('negroes beauregard', 1), ('the negros', 1), ('negros insidious', 1), ('black beast', 1), ('allamerican white', 1), ('white nuclear', 1), ('black handsome', 1), ('drab whitewalled', 1), ('whitewalled office', 1), ('turrentine black', 1), ('black s', 1), ('bridges white', 1), ('white smart', 1), ('nigger will', 1), ('s white', 1), ('white sits', 1), ('spoken white', 1), ('landers white', 1), ('white mids', 1), ('black radical', 1), ('wear black', 1), ('college black', 1), ('occasional white', 1), ('s black', 1), ('black bodyguards', 1), ('feet black', 1), ('black fist', 1), ('black love', 1), ('ungawa black', 1), ('thats black', 1), ('mass black', 1), ('black students', 1), ('lips white', 1), ('fine white', 1), ('woman white', 1), ('white tarzan', 1), ('black natives', 1), ('black minds', 1), ('things white', 1), ('unless white', 1), ('of negroes', 1), ('white racist', 1), ('murdering black', 1), ('but black', 1), ('black asses', 1), ('black elbows', 1), ('both white', 1), ('panther nigger', 1), ('nigger arent', 1), ('black bastards', 1), ('ture black', 1), ('means black', 1), ('white elephant', 1), ('hate niggers', 1), ('niggers jews', 1), ('white aryan', 1), ('projecting white', 1), ('black baboon', 1), ('filthy black', 1), ('white undercover', 1), ('right white', 1), ('black all', 1), ('reads white', 1), ('white power', 1), ('local niggers', 1), ('niggers felix', 1), ('niggers walter', 1), ('breachway white', 1), ('niggers matter', 1), ('some niggers', 1), ('niggers my', 1), ('anymore niggers', 1), ('soap niggers', 1), ('automobiles niggers', 1), ('toothpaste niggers', 1), ('dem niggersrice', 1), ('niggersrice and', 1), ('felix negros', 1), ('negros ivanhoe', 1), ('ivanhoe blacks', 1), ('blacks walter', 1), ('all niggers', 1), ('niggers flip', 1), ('nigger martin', 1), ('lone white', 1), ('called black', 1), ('connie white', 1), ('some nigger', 1), ('nigger named', 1), ('college nigger', 1), ('wall white', 1), ('not nigger', 1), ('nigger friendly', 1), ('fuckin black', 1), ('black lawn', 1), ('black spearchucker', 1), ('shit nigger', 1), ('wasp white', 1), ('white anglo', 1), ('pie white', 1), ('lightskinned black', 1), ('white flip', 1), ('negro wants', 1), ('black kid', 1), ('nigger looters', 1), ('dat nigger', 1), ('nigger next', 1), ('black exploitation', 1), ('killing black', 1), ('what black', 1), ('need black', 1), ('black liberation', 1), ('cant white', 1), ('negro two', 1), ('mouth black', 1), ('empty white', 1), ('white walls', 1), ('puts niggers', 1), ('niggers on', 1), ('their nigger', 1), ('nigger toes', 1), ('hate negroes', 1), ('negroes i', 1), ('niggers funny', 1), ('nigger once', 1), ('yeah nigger', 1), ('nigger lived', 1), ('nigger int', 1), ('upstanding white', 1), ('black lynchings', 1), ('smartaleck negro', 1), ('negro calling', 1), ('white sgt', 1), ('aryan white', 1), ('are negroes', 1), ('negroes pronounce', 1), ('so white', 1), ('white right', 1), ('how negroes', 1), ('negroes talk', 1), ('killin niggers', 1), ('niggers connie', 1), ('niggers at', 1), ('killing niggers', 1), ('niggers for', 1), ('nigger niece', 1), ('nigger nephew', 1), ('black beret', 1), ('beret black', 1), ('black ray', 1), ('kill whitey', 1), ('whitey doesnt', 1), ('niggers said', 1), ('miss black', 1), ('barbecue niggers', 1), ('plainclothes black', 1), ('black detective', 1), ('white lone', 1), ('black waiter', 1), ('turner black', 1), ('black years', 1), ('white jury', 1), ('white non', 1), ('white nonjewish', 1), ('only black', 1), ('black person', 1), ('among white', 1), ('nigger walker', 1), ('davis nigger', 1), ('nigger what', 1), ('detective nigger', 1), ('nigger davis', 1), ('white pickup', 1), ('white pride', 1), ('also white', 1), ('nigger attacked', 1), ('lying nigger', 1), ('nigger or', 1), ('dat niggah', 1), ('niggah coon', 1), ('flashes black', 1), ('black colorado', 1), ('white nationalists', 1), ('black fini', 1), ('black stripper', 1), ('black hole', 1), ('white rachael', 1), ('white deacon', 1), ('black nacar', 1), ('minute blackout', 1), ('blackout at', 1), ('blackout that', 1), ('blackout of', 1), ('black during', 1), ('black mateoharrys', 1), ('black notebook', 1), ('stop blackmailing', 1), ('blackmailing me', 1), ('ernesto blackmailers', 1), ('blackmailers lena', 1), ('black harrys', 1), ('black harry', 1), ('black ernesto', 1), ('black over', 1), ('black ellipsis', 1), ('black on', 1), ('black various', 1), ('black front', 1), ('become white', 1), ('white against', 1), ('black beach', 1), ('vast blacksand', 1), ('blacksand beach', 1), ('behind black', 1), ('sea black', 1), ('black dirt', 1), ('this blackdirt', 1), ('blackdirt landscape', 1), ('helgeland white', 1), ('white march', 1), ('double white', 1), ('white revised', 1), ('white a', 1), ('dust white', 1), ('white is', 1), ('black groundskeeper', 1), ('negro ballplayer', 1), ('negro baseball', 1), ('birmingham black', 1), ('black barons', 1), ('black ballplayers', 1), ('by black', 1), ('white wed', 1), ('white sir', 1), ('white attendant', 1), ('restroom white', 1), ('rickey white', 1), ('new negro', 1), ('negro league', 1), ('white brooklyn', 1), ('white baseball', 1), ('black sonofabitch', 1), ('negro lost', 1), ('negro does', 1), ('writer white', 1), ('daytona white', 1), ('negro is', 1), ('white colonel', 1), ('sign white', 1), ('black busboy', 1), ('its white', 1), ('dozen black', 1), ('black last', 1), ('say negroes', 1), ('negroes do', 1), ('day black', 1), ('black vote', 1), ('negro race', 1), ('negro for', 1), ('bat white', 1), ('clubs white', 1), ('dinner white', 1), ('white jacks', 1), ('nigger out', 1), ('beachs black', 1), ('black community', 1), ('old white', 1), ('with black', 1), ('negro man', 1), ('says white', 1), ('white sections', 1), ('white section', 1), ('black crowd', 1), ('now white', 1), ('no niggers', 1), ('negro players', 1), ('white ext', 1), ('last white', 1), ('white rachel', 1), ('damned white', 1), ('brooklyn negro', 1), ('negro second', 1), ('negro people', 1), ('on negroes', 1), ('negroes everywhere', 1), ('negro society', 1), ('him white', 1), ('white miller', 1), ('to negro', 1), ('negro crowds', 1), ('or black', 1), ('because negro', 1), ('negro reporters', 1), ('phone white', 1), ('negro player', 1), ('jack black', 1), ('white babe', 1), ('clean white', 1), ('white wool', 1), ('fortynine white', 1), ('black jack', 1), ('date negroes', 1), ('black patrons', 1), ('black owner', 1), ('nigger jack', 1), ('home nigger', 1), ('nigger go', 1), ('shine white', 1), ('hey nigger', 1), ('nigger lips', 1), ('nigger doing', 1), ('husband white', 1), ('next white', 1), ('white son', 1), ('more white', 1), ('bragan white', 1), ('those nigger', 1), ('nigger dollars', 1), ('int black', 1), ('black church', 1), ('black preacher', 1), ('negro first', 1), ('genuine nigger', 1), ('nigger hey', 1), ('crisp white', 1), ('nigger down', 1), ('negro it', 1), ('ballclub negroes', 1), ('negroes with', 1), ('dago white', 1), ('rickey nigger', 1), ('cabinet white', 1), ('white motioning', 1), ('nigger wife', 1), ('freckles nigger', 1), ('nigger then', 1), ('about white', 1), ('white guys', 1), ('white italian', 1), ('casey white', 1), ('white stanky', 1), ('to whitey', 1), ('whitey kurowski', 1), ('negro jack', 1), ('negro catcher', 1), ('white sox', 1), ('shoeless black', 1), ('white hillbillies', 1), ('forty white', 1), ('white owners', 1), ('buy niggers', 1), ('niggers who', 1), ('black skinned', 1), ('black horse', 1), ('wet white', 1), ('nigger which', 1), ('drschultzs white', 1), ('white button', 1), ('nervous black', 1), ('black slave', 1), ('nigger outta', 1), ('django white', 1), ('buncha white', 1), ('nigger come', 1), ('servanthouse nigger', 1), ('nigger uniforms', 1), ('plenty black', 1), ('is prettyblack', 1), ('prettyblack females', 1), ('said niggers', 1), ('niggers z', 1), ('niggers he', 1), ('pants nigger', 1), ('loveliest black', 1), ('black creatures', 1), ('these black', 1), ('black angels', 1), ('coal blacks', 1), ('blacks horse', 1), ('lady niggers', 1), ('dollar nigger', 1), ('whoa nigger', 1), ('nigger calm', 1), ('nigger clumsiness', 1), ('white cotton', 1), ('niggers come', 1), ('niggers yall', 1), ('niggers gonna', 1), ('killer nigger', 1), ('nigger over', 1), ('black finger', 1), ('black what', 1), ('hunter black', 1), ('around black', 1), ('greenville white', 1), ('shirtless black', 1), ('white slave', 1), ('russ niggers', 1), ('niggers better', 1), ('fifty black', 1), ('black black', 1), ('felt nigger', 1), ('white bag', 1), ('bought nigger', 1), ('beautiful white', 1), ('white parasol', 1), ('vo white', 1), ('black daisy', 1), ('as nigger', 1), ('nigger love', 1), ('mean white', 1), ('powerful white', 1), ('black ponys', 1), ('fancyfucking white', 1), ('white dress', 1), ('little nigger', 1), ('nigger lip', 1), ('matchin nigger', 1), ('white hotel', 1), ('white buyers', 1), ('black slavebodyguard', 1), ('couple niggers', 1), ('niggers hed', 1), ('slaver black', 1), ('black slavers', 1), ('dressed white', 1), ('pretty black', 1), ('white mens', 1), ('nigger coco', 1), ('cowboy nigger', 1), ('nigger just', 1), ('bigger nigger', 1), ('nigger belongs', 1), ('niggers name', 1), ('find nigger', 1), ('fighting nigger', 1), ('nigger at', 1), ('nigger to', 1), ('ass nigger', 1), ('niggers you', 1), ('nigger how', 1), ('around niggers', 1), ('niggers aside', 1), ('fucker black', 1), ('nigger hisself', 1), ('nigger hes', 1), ('fallen black', 1), ('nigga fore', 1), ('whites except', 1), ('whites laugh', 1), ('nigger calvin', 1), ('to nigger', 1), ('nigger heaven', 1), ('like nigger', 1), ('black riding', 1), ('white village', 1), ('night nigger', 1), ('nigger fights', 1), ('white curly', 1), ('niggers in', 1), ('cheeky black', 1), ('black bugger', 1), ('white riders', 1), ('fightin niggers', 1), ('niggers about', 1), ('amerigos niggers', 1), ('niggers last', 1), ('nigger lost', 1), ('nigger candieshakes', 1), ('black little', 1), ('candie nigger', 1), ('nigger drschultz', 1), ('nigger speaks', 1), ('django nigger', 1), ('nigger when', 1), ('niggers like', 1), ('niggas round', 1), ('black off', 1), ('every nigga', 1), ('nigga on', 1), ('again nigger', 1), ('nigger see', 1), ('nigger snowball', 1), ('these nigger', 1), ('nigger nicknames', 1), ('any niggers', 1), ('nigger he', 1), ('black hercules', 1), ('wrong nigger', 1), ('nigger per', 1), ('nigger �', 1), ('quality nigger', 1), ('nigger no', 1), ('winner nigger', 1), ('niggers where', 1), ('got niggers', 1), ('niggers there', 1), ('niggers endurance', 1), ('niggers know', 1), ('nigger with', 1), ('goddamn nigger', 1), ('nigger lovin', 1), ('a niggerthe', 1), ('niggerthe only', 1), ('bout black', 1), ('black puddin', 1), ('nigger youd', 1), ('black schultz', 1), ('black to', 1), ('german white', 1), ('black bounty', 1), ('nigger asses', 1), ('nigger regret', 1), ('naked black', 1), ('know blackie', 1), ('blackie here', 1), ('sack blackie', 1), ('blackie a', 1), ('yep nigger', 1), ('nigger im', 1), ('the barnblacksmith', 1), ('barnblacksmith facility', 1), ('the blacksmith', 1), ('blacksmith barn', 1), ('down nigger', 1), ('nigger we', 1), ('black poker', 1), ('talkin white', 1), ('damn nigger', 1), ('bare black', 1), ('skinny nigger', 1), ('nd white', 1), ('you blacks', 1), ('blacks line', 1), ('punishment niggers', 1), ('niggers from', 1), ('nigger got', 1), ('hey white', 1), ('shut black', 1), ('look black', 1), ('black it', 1), ('damned blackie', 1), ('blackie were', 1), ('straight black', 1), ('my white', 1), ('white german', 1), ('nigger slave', 1), ('that blacks', 1), ('blacks damn', 1), ('black ride', 1), ('black his', 1), ('okay black', 1), ('deal black', 1), ('black django', 1), ('black fella', 1), ('nigger back', 1), ('nigger cage', 1), ('nigger cut', 1), ('white preacher', 1), ('black dress', 1), ('brim black', 1), ('black hat', 1), ('hat black', 1), ('black veil', 1), ('present black', 1), ('black mammy', 1), ('backed black', 1), ('with nigger', 1), ('nigger ears', 1), ('feeds black', 1), ('last nigger', 1), ('tnt stableblacksmith', 1), ('stableblacksmith night', 1), ('nigger life', 1), ('niggers git', 1), ('black flowing', 1), ('black velvet', 1), ('nigger outfit', 1), ('funeral black', 1), ('nigger django', 1), ('white lunges', 1), ('black fellow', 1), ('white musicaltop', 1), ('gigantic black', 1), ('black feet', 1), ('huge black', 1), ('black eyes', 1), ('tiny black', 1), ('turn whiteand', 1), ('whiteand disappear', 1), ('you negro', 1), ('negro you', 1), ('negro will', 1), ('dummy nigger', 1), ('nigger pauls', 1), ('lil black', 1), ('black sambo', 1), ('swirling black', 1), ('burning white', 1), ('white jelly', 1), ('sizzling purpleblack', 1), ('purpleblack the', 1), ('white arm', 1), ('sright nigger', 1), ('nigger bad', 1), ('billy niggers', 1), ('niggers oughtta', 1), ('chair white', 1), ('no nigger', 1), ('nigger lectric', 1), ('gone white', 1), ('tiny white', 1), ('white bird', 1), ('massive black', 1), ('black arm', 1), ('black bugs', 1), ('baldheaded black', 1), ('magical black', 1), ('white written', 1), ('jet black', 1), ('black bangs', 1), ('morning black', 1), ('care black', 1), ('dumpster black', 1), ('black paul', 1), ('ish white', 1), ('white well', 1), ('later black', 1), ('black letters', 1), ('pov black', 1), ('clang black', 1), ('white why', 1), ('white out', 1), ('white very', 1), ('white construction', 1), ('black smoke', 1), ('car black', 1), ('lid black', 1), ('black arnith', 1), ('trunk black', 1), ('white sand', 1), ('white flakes', 1), ('whiteness omitted', 1), ('swirling white', 1), ('white fade', 1), ('black coda', 1), ('white broadcast', 1), ('black stay', 1), ('blackness jane', 1), ('outline blacked', 1), ('blacked out', 1), ('blackness her', 1), ('blackness woman', 1), ('go black', 1), ('black there', 1), ('when white', 1), ('as white', 1), ('dark black', 1), ('black jane', 1), ('toms black', 1), ('black book', 1), ('blackness planted', 1), ('ext white', 1), ('nonetheless white', 1), ('white ear', 1), ('white paper', 1), ('black bg', 1), ('innercity black', 1), ('black mirrored', 1), ('black sky', 1), ('white cops', 1), ('patrician white', 1), ('white businesspeople', 1), ('through black', 1), ('black water', 1), ('watching white', 1), ('negro baptist', 1), ('nice white', 1), ('white passengers', 1), ('middleaged black', 1), ('black glasses', 1), ('black shirt', 1), ('white windows', 1), ('cassius black', 1), ('hate white', 1), ('me fastblackor', 1), ('fastblackor daddy', 1), ('white officials', 1), ('stone white', 1), ('predominantly white', 1), ('reporters black', 1), ('arent black', 1), ('covered white', 1), ('white sofa', 1), ('best white', 1), ('want black', 1), ('black lawyers', 1), ('arabtalkin nigger', 1), ('nigger gonna', 1), ('black ali', 1), ('let black', 1), ('black africa', 1), ('giant black', 1), ('black star', 1), ('surprise blacks', 1), ('blacks yeah', 1), ('black african', 1), ('holes black', 1), ('black eagles', 1), ('radical black', 1), ('white suburbs', 1), ('black jew', 1), ('tall white', 1), ('good negro', 1), ('negro who', 1), ('me nigger', 1), ('nigger bingham', 1), ('black oldsmobile', 1), ('black suits', 1), ('white houston', 1), ('whiteness as', 1), ('the whiteout', 1), ('whiteout int', 1), ('white silk', 1), ('white showcase', 1), ('white suit', 1), ('white tie', 1), ('white caftan', 1), ('white satin', 1), ('against white', 1), ('white in', 1), ('students white', 1), ('black some', 1), ('black athlete', 1), ('the whitetile', 1), ('whitetile north', 1), ('ali white', 1), ('black satellite', 1), ('black city', 1), ('atlantas black', 1), ('black elite', 1), ('scattered whites', 1), ('black royalty', 1), ('establishment blacks', 1), ('blacks puerto', 1), ('corner white', 1), ('white towel', 1), ('helping black', 1), ('black proletariat', 1), ('white helmets', 1), ('knockedout white', 1), ('out black', 1), ('black promoted', 1), ('talks black', 1), ('black lives', 1), ('lives white', 1), ('first allblack', 1), ('allblack promotion', 1), ('black zack', 1), ('white mouth', 1), ('white phosphorus', 1), ('black malcom', 1), ('black side', 1), ('white feather', 1), ('white christians', 1), ('frightened negro', 1), ('negro as', 1), ('black b', 1), ('therefore black', 1), ('and whitelooking', 1), ('whitelooking voice', 1), ('so black', 1), ('black she', 1), ('predominately black', 1), ('black although', 1), ('whites especially', 1), ('especially white', 1), ('white chicks', 1), ('black dance', 1), ('dominantly black', 1), ('some whites', 1), ('whites in', 1), ('hefty black', 1), ('black world', 1), ('gorgeous white', 1), ('white chick', 1), ('ripe white', 1), ('seen white', 1), ('black life', 1), ('zootsuited blacks', 1), ('blacks race', 1), ('them white', 1), ('white bitches', 1), ('enough black', 1), ('black dick', 1), ('white gal', 1), ('white social', 1), ('black children', 1), ('totally white', 1), ('white smock', 1), ('negro spiritual', 1), ('elderly black', 1), ('black waiters', 1), ('tully nigger', 1), ('nigger shut', 1), ('black humanity', 1), ('white on', 1), ('mixed black', 1), ('black sheets', 1), ('than white', 1), ('christians nigger', 1), ('nigger its', 1), ('nigger close', 1), ('condition negroes', 1), ('negroes were', 1), ('of whiteys', 1), ('whiteys social', 1), ('skinned black', 1), ('black tough', 1), ('half nigger', 1), ('head nigger', 1), ('balling white', 1), ('black slowly', 1), ('black guard', 1), ('white guard', 1), ('white chaplain', 1), ('nigger why', 1), ('black heathen', 1), ('word black', 1), ('dictionary black', 1), ('black blak', 1), ('looked black', 1), ('black malcolms', 1), ('black day', 1), ('black cruelty', 1), ('also blackmail', 1), ('blackmail blackball', 1), ('blackball blackguard', 1), ('blackguard malcolm', 1), ('white malcolms', 1), ('voice white', 1), ('white whit', 1), ('black hence', 1), ('negro history', 1), ('black team', 1), ('black prisoners', 1), ('history black', 1), ('black history', 1), ('trees black', 1), ('sure white', 1), ('black ball', 1), ('white convict', 1), ('white barber', 1), ('white there', 1), ('black chaplain', 1), ('socalled white', 1), ('hanging black', 1), ('white pale', 1), ('aint black', 1), ('black dont', 1), ('black think', 1), ('think black', 1), ('black buy', 1), ('buy black', 1), ('black angle', 1), ('where black', 1), ('black is', 1), ('mr white', 1), ('white devils', 1), ('enough white', 1), ('white tail', 1), ('white john', 1), ('nigger if', 1), ('black teenager', 1), ('black coffee', 1), ('white sugar', 1), ('negro stand', 1), ('beaten negro', 1), ('negro an', 1), ('negro especially', 1), ('white politicians', 1), ('semisavage white', 1), ('footage black', 1), ('white newsclips', 1), ('white supremacy', 1), ('teaching black', 1), ('ignorant negro', 1), ('negro preachers', 1), ('negroes today', 1), ('the negroes', 1), ('negroes from', 1), ('showing black', 1), ('naacptype negro', 1), ('lawabiding negro', 1), ('teach black', 1), ('black members', 1), ('negro subculture', 1), ('negro with', 1), ('house negroes', 1), ('negroes and', 1), ('negroes the', 1), ('negro lived', 1), ('nigger well', 1), ('niggers running', 1), ('blacks in', 1), ('nigger dr', 1), ('black americans', 1), ('negroes they', 1), ('black ghetto', 1), ('when negroes', 1), ('negroes stop', 1), ('an allblack', 1), ('allblack audience', 1), ('negro were', 1), ('these negroes', 1), ('negroes who', 1), ('white problem', 1), ('about blackout', 1), ('blackout some', 1), ('black headlines', 1), ('american negro', 1), ('negro struggle', 1), ('other negro', 1), ('quarters whites', 1), ('whites can', 1), ('no blackwhite', 1), ('blackwhite unity', 1), ('black unity', 1), ('from white', 1), ('white to', 1), ('darkest black', 1), ('several white', 1), ('white pilgrims', 1), ('black stone', 1), ('the whitest', 1), ('whitest of', 1), ('white americans', 1), ('white reporter', 1), ('american negroes', 1), ('negroes malcolm', 1), ('if white', 1), ('whites would', 1), ('nigger angle', 1), ('and niggers', 1), ('niggers ruined', 1), ('five black', 1), ('sincere white', 1), ('white individuals', 1), ('those whites', 1), ('whites who', 1), ('red nigger', 1), ('black doll', 1), ('life black', 1), ('racist white', 1), ('living black', 1), ('black manhood', 1), ('black shining', 1), ('white boat', 1), ('white you', 1), ('pearly whites', 1), ('whites darla', 1), ('black dog', 1), ('black rose', 1), ('black boyfriend', 1), ('shiny white', 1), ('white bmw', 1), ('black wet', 1), ('white framed', 1), ('white cat', 1), ('black mold', 1), ('welltodo white', 1), ('white family', 1), ('family black', 1), ('black servants', 1), ('black abyss', 1), ('timid black', 1), ('white except', 1), ('four white', 1), ('another black', 1), ('black dude', 1), ('rod nigga', 1), ('nigga what', 1), ('know white', 1), ('ate niggas', 1), ('niggas heads', 1), ('on niggas', 1), ('niggas and', 1), ('black guest', 1), ('the whitestmost', 1), ('whitestmost dude', 1), ('white seeming', 1), ('shes white', 1), ('white detective', 1), ('abducting black', 1), ('you white', 1), ('white girlsll', 1), ('why black', 1), ('youre black', 1), ('black nurses', 1), ('white robe', 1), ('million black', 1), ('american black', 1), ('puppet negro', 1), ('educated negroes', 1), ('negroes laden', 1), ('black poor', 1), ('x titleswhite', 1), ('titleswhite on', 1), ('black place', 1), ('white teeth', 1), ('very negroidal', 1), ('negroidal big', 1), ('black brooklyn', 1), ('black hair', 1), ('trifling negroes', 1), ('black business', 1), ('upthe whitehot', 1), ('white stream', 1), ('spray anglewhite', 1), ('white convertible', 1), ('water anglewhite', 1), ('black kids', 1), ('blacks and', 1), ('struggling black', 1), ('black smudge', 1), ('white unlaced', 1), ('white air', 1), ('righteous black', 1), ('we blacks', 1), ('black no', 1), ('say nigger', 1), ('niggers pino', 1), ('not niggers', 1), ('theyre black', 1), ('really black', 1), ('than black', 1), ('black thats', 1), ('to closewhitehot', 1), ('closewhitehot sun', 1), ('niggers its', 1), ('once whitehot', 1), ('ml negroes', 1), ('negroes kill', 1), ('us black', 1), ('many black', 1), ('black youth', 1), ('niggers int', 1), ('black closeml', 1), ('white him', 1), ('white coconut', 1), ('black him', 1), ('looking black', 1), ('beautiful black', 1), ('charismatic black', 1), ('black katie', 1), ('hes white', 1), ('white collared', 1), ('small white', 1), ('white bandage', 1), ('stocky white', 1), ('white inmate', 1), ('birthday nigga', 1), ('ceephus black', 1), ('black uniforms', 1), ('uniforms black', 1), ('players black', 1), ('black coach', 1), ('black wife', 1), ('white rice', 1), ('white dudes', 1), ('niggas brought', 1), ('nigga we', 1), ('nigga brandon', 1), ('gorgeous black', 1), ('attractive black', 1), ('smoke blacks', 1), ('blacks on', 1), ('nigga motions', 1), ('yall niggas', 1), ('niggas is', 1), ('black teenagers', 1), ('white though', 1), ('child white', 1), ('whites all', 1), ('jason nigga', 1), ('nigga you', 1), ('white thirty', 1), ('couple white', 1), ('oversized white', 1), ('white t', 1), ('bitch nigga', 1), ('nigga cale', 1), ('them niggas', 1), ('niggas boom', 1), ('niggas bruh', 1), ('now nigga', 1), ('southside niggas', 1), ('niggas towards', 1), ('imposing white', 1), ('shaven white', 1), ('white cop', 1), ('nigga foreal', 1), ('nigga bruh', 1), ('nigga right', 1), ('black gun', 1), ('nigga to', 1), ('slim black', 1), ('are blacks', 1), ('blacks as', 1), ('freed blacks', 1), ('blacks who', 1), ('whites we', 1), ('few black', 1), ('everywhere black', 1), ('black armbands', 1), ('city black', 1), ('black crepes', 1), ('a blackness', 1), ('blackness more', 1), ('otherwise nearblack', 1), ('nearblack room', 1), ('runaway nigger', 1), ('black kind', 1), ('harsh white', 1), ('and blacking', 1), ('blacking out', 1), ('is blackened', 1), ('blackened and', 1), ('pumping black', 1), ('black oily', 1), ('nigger solomons', 1), ('niggers born', 1), ('slaves niggers', 1), ('niggers aint', 1), ('negro named', 1), ('nigger captain', 1), ('niggers get', 1), ('everywhere blacks', 1), ('blacks almost', 1), ('limbs blacks', 1), ('picking niggers', 1), ('niggers continued', 1), ('white overseer', 1), ('niggers two', 1), ('clever nigger', 1), ('work niggers', 1), ('niggers so', 1), ('flew nigger', 1), ('nigger tore', 1), ('field black', 1), ('black slick', 1), ('nigger wont', 1), ('oh nigger', 1), ('nigger behind', 1), ('own niggers', 1), ('niggers handing', 1), ('niggers can', 1), ('blacks working', 1), ('cometh black', 1), ('nigger more', 1), ('nigger yet', 1), ('yah black', 1), ('goddman black', 1), ('day nigger', 1), ('nigger another', 1), ('black hanging', 1), ('nigger breaker', 1), ('exceptional nigger', 1), ('guinea nigger', 1), ('nigger brought', 1), ('ere nigger', 1), ('nigger shall', 1), ('striking black', 1), ('niggers edward', 1), ('average nigger', 1), ('nigger pick', 1), ('nigger aint', 1), ('nigger among', 1), ('among niggers', 1), ('nigger choose', 1), ('white linens', 1), ('shaw nigger', 1), ('pickin niggers', 1), ('black throat', 1), ('lyin nigger', 1), ('nigger have', 1), ('damned nigger', 1), ('nigger damn', 1), ('niggers let', 1), ('them black', 1), ('black animals', 1), ('down black', 1), ('white it', 1), ('solomon niggers', 1), ('black got', 1), ('far whiter', 1), ('whiter than', 1), ('most blacks', 1), ('blacks it', 1), ('white gown', 1), ('nigger thatll', 1), ('blackness solomon', 1), ('again black', 1), ('n white', 1), ('niggers is', 1), ('slick nigger', 1), ('nigger ways', 1), ('field white', 1), ('blackness and', 1), ('larned nigger', 1), ('get white', 1), ('white fellows', 1), ('white platt', 1), ('white epps', 1), ('niggers when', 1), ('nigger but', 1), ('black alike', 1), ('nigger bass', 1), ('any nigger', 1), ('white black', 1), ('black if', 1), ('miserable black', 1), ('black dogs', 1), ('picking nigger', 1), ('every nigger', 1), ('halfpainted white', 1), ('white gazebo', 1), ('nigger parker', 1), ('more black', 1), ('where blacks', 1), ('blacks were', 1), ('against whites', 1), ('whites the', 1), ('nigger by', 1), ('black end', 1), ('black screen', 1), ('wrinkly black', 1), ('millimetre black', 1), ('mean black', 1), ('white where', 1), ('blacks black', 1), ('whites white', 1), ('white this', 1), ('stores black', 1), ('white video', 1), ('academy black', 1), ('white photo', 1), ('white grease', 1), ('nobody black', 1), ('black reporter', 1), ('white tshirt', 1), ('white evidence', 1), ('white mm', 1), ('white until', 1), ('black shoes', 1), ('white scene', 1), ('jams white', 1), ('mm white', 1), ('into blackness', 1), ('blackness int', 1), ('from blackness', 1), ('blackness to', 1), ('black frame', 1), ('flashes white', 1), ('white before', 1), ('into white', 1), ('sturdy black', 1), ('white bentley', 1), ('tango black', 1), ('tosca white', 1), ('white wine', 1), ('a blackboard', 1), ('blackboard like', 1), ('distinctive black', 1), ('stitchedup black', 1), ('exclusively black', 1), ('black american', 1), ('black colonel', 1), ('agitated allblack', 1), ('allblack crowd', 1), ('servicemen black', 1), ('black armed', 1), ('never white', 1), ('telling white', 1), ('white suburbia', 1), ('black richie', 1), ('black undercover', 1), ('white date', 1), ('fat black', 1), ('heavy black', 1), ('suburban white', 1), ('white kids', 1), ('white liquid', 1), ('base black', 1), ('whites arriving', 1), ('blacks including', 1), ('bloody white', 1), ('white coats', 1), ('black coalition', 1), ('magic black', 1), ('black has', 1), ('hes black', 1), ('black now', 1), ('fucking nigger', 1), ('nigger has', 1), ('white military', 1), ('white caskets', 1), ('black privates', 1), ('dont black', 1), ('black businessman', 1), ('black hand', 1)])\n",
      "cluster 3\n",
      "OrderedDict([('black woman', 10), ('white house', 9), ('the black', 8), ('the white', 8), ('black and', 6), ('and white', 6), ('a black', 5), ('white woman', 5), ('black panther', 5), ('white television', 3), ('a white', 3), ('int white', 3), ('our black', 3), ('black white', 2), ('white footage', 2), ('large black', 2), ('wealthy white', 2), ('white man', 2), ('black leaders', 2), ('black panthers', 2), ('where black', 2), ('black soldiers', 2), ('of black', 2), ('that black', 1), ('white photo', 1), ('black nurse', 1), ('shot black', 1), ('idiot niggas', 1), ('niggas and', 1), ('force black', 1), ('two black', 1), ('black students', 1), ('young black', 1), ('black girl', 1), ('watch black', 1), ('number black', 1), ('forrest white', 1), ('college white', 1), ('football black', 1), ('white paramount', 1), ('states black', 1), ('white newsreel', 1), ('burps black', 1), ('white housebathroom', 1), ('black recruit', 1), ('white dove', 1), ('red white', 1), ('white and', 1), ('black soldier', 1), ('int black', 1), ('your white', 1), ('white ass', 1), ('another black', 1), ('black communists', 1), ('communists black', 1), ('your black', 1), ('her black', 1), ('black eye', 1), ('ext white', 1), ('black kids', 1), ('old black', 1), ('black shrimper', 1), ('little white', 1), ('white lie', 1), ('the allblack', 1), ('allblack gospel', 1), ('white dress', 1)])\n",
      "cluster 4\n",
      "OrderedDict([('black hole', 11), ('a black', 8), ('the black', 5), ('black holes', 3), ('yeah black', 1)])\n"
     ]
    }
   ],
   "source": [
    "\n",
    "# grouping texts by cluster\n",
    "\n",
    "clusters_text = []\n",
    "for i in range(cluster_num):\n",
    "    text = \" \".join([k for k,v in result_docs.items() if v == i])\n",
    "    clusters_text.append(text)\n",
    "\n",
    "\n",
    "# obteniendo los bigramas donde hay insinuaciones racistas \n",
    "\n",
    "def get_cluster_analysis_results(clusters_text):\n",
    "    racist_bigrams_per_cluster = []\n",
    "    for i, corpus in enumerate(clusters_text):\n",
    "        tokens = corpus.split()\n",
    "        bigrams = create_bigram(tokens)\n",
    "        racist_bigrams_per_cluster.append(sort_by_frequency(get_racist_bigrams(bigrams)))\n",
    "\n",
    "\n",
    "\n",
    "    return racist_bigrams_per_cluster\n",
    "\n",
    "racist_bigrams_per_cluster = get_cluster_analysis_results(clusters_text)\n",
    "\n",
    "for i in range(cluster_num):\n",
    "    print(\"cluster {}\".format(i))\n",
    "    print(racist_bigrams_per_cluster[i])\n"
   ]
  }
 ],
 "metadata": {
  "interpreter": {
   "hash": "08d3084121668768e852e6c8847875f2891314f0e7777835d5874d24554f93cd"
  },
  "kernelspec": {
   "display_name": "Python 3.8.10 64-bit ('env_proyecto_nlp': venv)",
   "name": "python3"
  },
  "language_info": {
   "codemirror_mode": {
    "name": "ipython",
    "version": 3
   },
   "file_extension": ".py",
   "mimetype": "text/x-python",
   "name": "python",
   "nbconvert_exporter": "python",
   "pygments_lexer": "ipython3",
   "version": "3.8.10"
  },
  "orig_nbformat": 4
 },
 "nbformat": 4,
 "nbformat_minor": 2
}
