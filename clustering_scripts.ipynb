{
 "cells": [
  {
   "cell_type": "code",
   "execution_count": 33,
   "metadata": {},
   "outputs": [
    {
     "name": "stdout",
     "output_type": "stream",
     "text": [
      "Tamaño del corpus: 4740654\n",
      "nlp max length: 1000000\n"
     ]
    }
   ],
   "source": [
    "import spacy\n",
    "import string\n",
    "\n",
    "def clean_text(corpus):\n",
    "    # Remove punctuations from the corpus\n",
    "    translator = str.maketrans('', '', string.punctuation)\n",
    "    corpus = corpus.translate(translator)\n",
    "\n",
    "    # Remove digits from the corpus\n",
    "    remove_digits = str.maketrans('', '', string.digits)\n",
    "    corpus = corpus.translate(remove_digits)\n",
    "    return corpus\n",
    "\n",
    "\n",
    "\n",
    "with open(\"scripts_concat.txt\", \"r\") as f:\n",
    "    scripts_string = f.read()\n",
    "\n",
    "corpus = clean_text(scripts_string)\n",
    "\n",
    "nlp = spacy.load('en_core_web_sm')\n",
    "\n",
    "\n",
    "print(\"Tamaño del corpus: {}\".format(len(corpus)))\n",
    "print(\"nlp max length: {}\".format(nlp.max_length))\n",
    "\n",
    "corpus_chunk = [corpus[i:i+nlp.max_length] for i in range (0,len(corpus), nlp.max_length)]\n",
    "\n",
    "\n",
    "# we process chunks of the corpus accoding to the max length of nlp\n",
    "\n",
    "docs = []\n",
    "for chunk in corpus_chunk:\n",
    "    doc = nlp(chunk)\n",
    "    docs.append(doc)\n",
    "\n"
   ]
  },
  {
   "cell_type": "markdown",
   "metadata": {},
   "source": [
    "# Análisis del texto"
   ]
  },
  {
   "cell_type": "code",
   "execution_count": 28,
   "metadata": {},
   "outputs": [
    {
     "name": "stdout",
     "output_type": "stream",
     "text": [
      "Total words:  656598\n",
      "Total verbs:  88254\n",
      "Total nouns:  85804\n",
      "Total people:  17500\n",
      "Total organizations:  6215\n"
     ]
    }
   ],
   "source": [
    "words = []\n",
    "nouns = []\n",
    "verbs = []\n",
    "people = []\n",
    "orgs = []\n",
    "\n",
    "for doc in docs:\n",
    "    for token in doc:\n",
    "        words.append(token.text)\n",
    "        if token.pos_ == \"VERB\":\n",
    "            verbs.append(token.text)\n",
    "            \n",
    "        if token.pos_ == \"NOUN\":\n",
    "            nouns.append(token.text)\n",
    "\n",
    "\n",
    "for doc in docs:\n",
    "    for ent in doc.ents:\n",
    "        if ent.label_ == \"ORG\":\n",
    "            orgs.append(ent.text)\n",
    "        if ent.label_ == \"PERSON\":\n",
    "            people.append(ent.text)\n",
    "\n",
    "print(\"Total words: \", len(words))\n",
    "print(\"Total verbs: \", len(verbs))\n",
    "print(\"Total nouns: \", len(nouns))\n",
    "print(\"Total people: \", len(people))\n",
    "print(\"Total organizations: \", len(orgs))"
   ]
  },
  {
   "cell_type": "markdown",
   "metadata": {},
   "source": [
    "## Contando palabras"
   ]
  },
  {
   "cell_type": "code",
   "execution_count": 17,
   "metadata": {},
   "outputs": [],
   "source": [
    "from collections import Counter\n",
    "from collections import OrderedDict\n",
    "\n",
    "def sort_by_frequency(data,reverse=True):\n",
    "    \"\"\" \n",
    "    Function to sord the data by its frequency\n",
    "    Returns ordered dictionary\n",
    "    Default: Sort in descending order\n",
    "        \n",
    "    \"\"\"\n",
    "    data_with_freq = dict(Counter(data))\n",
    "    data_sorted_by_freq = OrderedDict(sorted(data_with_freq.items(), key=lambda x: x[1],reverse=reverse))\n",
    "    \n",
    "    return data_sorted_by_freq\n",
    "\n",
    "words_frequency = sort_by_frequency(words)\n",
    "nouns_frequency = sort_by_frequency(nouns)\n",
    "verbs_frequency  = sort_by_frequency(verbs)\n",
    "people_frequency = sort_by_frequency(people)\n",
    "orgs_frequency = sort_by_frequency(orgs)\n",
    "\n",
    "#print(verbs_frequency)"
   ]
  },
  {
   "cell_type": "markdown",
   "metadata": {},
   "source": [
    "# Analizando Bigramas"
   ]
  },
  {
   "cell_type": "code",
   "execution_count": 18,
   "metadata": {},
   "outputs": [],
   "source": [
    "import nltk\n",
    "\n",
    "def create_bigram(tokens):\n",
    "    # Using words token generated from spacy to find bigram\n",
    "    bigrams_ = list(nltk.bigrams(tokens))\n",
    "    # Convert generator into list of tuples of bigram \n",
    "    bigrams = [\" \".join(bigram) for bigram in list(bigrams_)]\n",
    "\n",
    "    return bigrams\n",
    "\n",
    "bigrams = create_bigram(words)\n",
    "\n",
    "def get_racist_bigrams(bigrams):\n",
    "    with open(\"racist_slang.txt\", \"r\") as f:\n",
    "        racist_slang_list = f.read().split(\"\\n\")\n",
    "    \n",
    "    racist_bigrams = []\n",
    "    for bigram in bigrams:\n",
    "        if any(word in bigram for word in racist_slang_list):\n",
    "            racist_bigrams.append(bigram)\n",
    "    \n",
    "    return racist_bigrams\n",
    "\n"
   ]
  },
  {
   "cell_type": "code",
   "execution_count": 19,
   "metadata": {},
   "outputs": [
    {
     "data": {
      "image/png": "[encoded data removed]",
      "text/plain": [
       "<Figure size 432x288 with 1 Axes>"
      ]
     },
     "metadata": {
      "needs_background": "light"
     },
     "output_type": "display_data"
    }
   ],
   "source": [
    "import numpy as np\n",
    "import matplotlib.pyplot as plt\n",
    "\n",
    "\n",
    "def get_top_n_from_order_dict(ordered_dict,n):\n",
    "    \"\"\" Function to find n top object from ordered dictionary\"\"\"\n",
    "    return [list(ordered_dict.items())[i] for i in range(n)]\n",
    "\n",
    "\n",
    "def visualize_list_of_tuple(data):\n",
    "    \"\"\"\"\"\"\n",
    "    list1, list2 = zip(*data)\n",
    "    y_pos = np.arange(len(list1))\n",
    "    plt.barh(y_pos, list2, align='center' )\n",
    "    plt.yticks(y_pos, list1)\n",
    "    plt.show()\n",
    "\n",
    "top_racist_bigrams = get_top_n_from_order_dict(sort_by_frequency(get_racist_bigrams(bigrams)) , 20)\n",
    "# The most popular rascist slurs\n",
    "visualize_list_of_tuple(top_racist_bigrams)"
   ]
  },
  {
   "cell_type": "markdown",
   "metadata": {},
   "source": [
    "# Clustering"
   ]
  },
  {
   "cell_type": "markdown",
   "metadata": {},
   "source": [
    "## Clustering con monogramas"
   ]
  },
  {
   "cell_type": "code",
   "execution_count": 21,
   "metadata": {},
   "outputs": [
    {
     "name": "stdout",
     "output_type": "stream",
     "text": [
      "Matrix shape: (18771, 100)\n"
     ]
    },
    {
     "data": {
      "text/plain": [
       "KMeans(max_iter=150, n_clusters=10, n_init=1)"
      ]
     },
     "execution_count": 21,
     "metadata": {},
     "output_type": "execute_result"
    }
   ],
   "source": [
    "import spacy\n",
    "from gensim.models import Word2Vec\n",
    "import numpy as np\n",
    "from sklearn.cluster import KMeans\n",
    "from collections import Counter\n",
    "\n",
    "\n",
    "\n",
    "NUM_CLUSTERS = 10\n",
    "\n",
    "# funcion para normalizar el oraciones\n",
    "\n",
    "\n",
    "def normalize_sentence(span):\n",
    "    # sacamos stopwords y signos de puntuación\n",
    "    words = [t for t in span if not t.is_punct | t.is_stop]\n",
    "    # nos quedamos con tokens alfabéticos y con largo considerable\n",
    "    lexical_tokens = [t for t in words if len(t.orth_) > 3 and\n",
    "                      t.orth_.isalpha()]\n",
    "\n",
    "    # removemos pronombres\n",
    "    cleaned_lemmas = [tok.lemma_.lower()\n",
    "                      for tok in lexical_tokens if tok.pos_ != 'PRON']\n",
    "\n",
    "    return cleaned_lemmas\n",
    "\n",
    "\n",
    "def show_results(vocabulary, model):\n",
    "    # Show results\n",
    "    c = Counter(sorted(model.labels_))\n",
    "    print(\"\\nTotal clusters:\", len(c))\n",
    "    for cluster in c:\n",
    "        print(\"Cluster#\", cluster, \" - Total words:\", c[cluster])\n",
    "\n",
    "    # Show top terms and words per cluster\n",
    "    print(\"Top words per cluster:\")\n",
    "    print()\n",
    "\n",
    "    keysVocab = list(vocabulary.keys())\n",
    "    for n in range(len(c)):\n",
    "        print(\"Cluster %d\" % n)\n",
    "        print(\"Words:\", end='')\n",
    "        word_indexs = [i for i, x in enumerate(list(model.labels_)) if x == n]\n",
    "        for i in word_indexs:\n",
    "            print(' %s' % keysVocab[i], end=',')\n",
    "        print()\n",
    "        print()\n",
    "\n",
    "    print()\n",
    "\n",
    "\n",
    "\n",
    "lemmatized_sentences = []\n",
    "\n",
    "for doc in docs:\n",
    "    for span in doc.sents:\n",
    "        lemmatized_sentences.append(normalize_sentence(span))\n",
    "\n",
    "\n",
    "# entrenamos un modelo de word embeddings neuronales\n",
    "model = Word2Vec(lemmatized_sentences, min_count=1)\n",
    "vocabulary = model.wv.key_to_index\n",
    "\n",
    "# vectores que conseguimos del modelo\n",
    "vectors = []\n",
    "for word in vocabulary:\n",
    "    vectors.append(model.wv[word])\n",
    "\n",
    "matrix = np.array(vectors)\n",
    "print(\"Matrix shape:\", matrix.shape)\n",
    "\n",
    "# normalizamos matriz y reducimos dimensionalidad quitando columnas con poca varianza\n",
    "\n",
    "matrix_normed = matrix / matrix.max(axis=0)\n",
    "\n",
    "variances = np.square(matrix_normed).mean(axis=0) - \\\n",
    "    np.square(matrix_normed.mean(axis=0))\n",
    "VarianzaMin = 0.001\n",
    "red_matrix = np.delete(matrix_normed, np.where(\n",
    "    variances < VarianzaMin), axis=1)\n",
    "\n",
    "\n",
    "# Utilizamos el algoritmo de K-means de scikit-learn\n",
    "k_means_model = KMeans(n_clusters=NUM_CLUSTERS, init = \"k-means++\",max_iter=150,n_init=1)\n",
    "k_means_model.fit(red_matrix)\n",
    "\n",
    "\n",
    "#show_results(vocabulary, k_means_model)"
   ]
  },
  {
   "cell_type": "markdown",
   "metadata": {},
   "source": [
    "## Clustering sobre scripts completos"
   ]
  },
  {
   "cell_type": "code",
   "execution_count": 7,
   "metadata": {},
   "outputs": [],
   "source": [
    "from sklearn.pipeline import Pipeline\n",
    "from sklearn.feature_extraction.text import CountVectorizer\n",
    "from sklearn.feature_extraction.text import TfidfTransformer\n",
    "import time\n",
    "from sklearn.cluster import KMeans\n",
    "\n",
    "\n",
    "\n",
    "\n",
    "class DocumentCluster:\n",
    "    \"\"\"Class to cluster document\"\"\"\n",
    "    def __init__(self,model,data,labels):\n",
    "        self.model = model\n",
    "        self.data = data\n",
    "        self.labels = labels\n",
    "        self.model_name = self._get_model_name()\n",
    "        \n",
    "        self.cluster_pipeline = None\n",
    "        \n",
    "    \n",
    "    def _get_model_name(self):\n",
    "        \"\"\"Get name of model being used\"\"\"\n",
    "        model_name = str(self.model).split('(')[0]\n",
    "        return model_name\n",
    "            \n",
    "\n",
    "    \n",
    "    def train_model(self,ngram,use_idf):\n",
    "        \"\"\" \n",
    "            Train model\n",
    "            ngram: int\n",
    "            use_idf: bool\n",
    "            analyzer: string\n",
    "        \n",
    "        \"\"\"\n",
    "        current_time = time.time()\n",
    "        self._ngram = ngram\n",
    "        self._use_idf = use_idf\n",
    "        \n",
    "        # Set a pipeline\n",
    "        # 1. The first step of the pipeline is to find count vectorizer\n",
    "        # Countvectorizer converts a collection of text documents to a matrix of token counts\n",
    "        # This implementation produces a sparse representation of the counts\n",
    "        # 2. We then use TfidfTransformr\n",
    "        # TfidfTransformer transforms a count matrix to a normalized tf or tf-idf representation\n",
    "        # Tf means term-frequency while tf-idf means term-frequency times inverse document-frequency\n",
    "\n",
    "        self.cluster_pipeline = Pipeline([('vect', CountVectorizer(ngram_range=(1,ngram), \n",
    "                analyzer=\"word\")), ('tfidf', TfidfTransformer(use_idf=use_idf)), \n",
    "                ('model', self.model)])\n",
    "        self._cluster = self.cluster_pipeline.fit(self.data)\n",
    "        \n",
    "        self._train_time = time.time() - current_time\n",
    "        \n",
    "        \n",
    "        print(\"Training completed\")\n",
    "        print(\"Training time for {} : {} secs\".format(self.model_name, self._train_time))\n",
    "        \n",
    "    \n",
    "    def predict(self):\n",
    "        \"\"\"\n",
    "        Predict cluster id for all clusters\n",
    "        \"\"\"\n",
    "        self.label_id_dict = {}\n",
    "        self.document_id_dict = {}\n",
    "        self.cluster_id = []\n",
    "        for i, document in enumerate(self.data):\n",
    "            cluster_id = self.cluster_pipeline.predict([document])[0]\n",
    "            self.label_id_dict.update({self.labels[i]:cluster_id})\n",
    "            self.document_id_dict.update({document:cluster_id})\n",
    "            self.cluster_id.append(cluster_id)\n",
    "        \n",
    "        return self.label_id_dict, self.document_id_dict"
   ]
  },
  {
   "cell_type": "code",
   "execution_count": 30,
   "metadata": {},
   "outputs": [
    {
     "data": {
      "text/plain": [
       "str"
      ]
     },
     "execution_count": 30,
     "metadata": {},
     "output_type": "execute_result"
    }
   ],
   "source": [
    "import json\n",
    "\n",
    "with open(\"movies_scripts.json\", \"r\") as f:\n",
    "    data = json.load(f)\n",
    "\n",
    "docs_text = list(map(lambda d: d[\"script\"], data.values()))\n",
    "labels = list(data.keys()) # the labels of each doc it's the name of the movie\n",
    "\n",
    "cleaned_docs = []\n",
    "for d in docs_text:\n",
    "    cleaned_docs.append(clean_text(d).lower())\n"
   ]
  },
  {
   "cell_type": "code",
   "execution_count": 9,
   "metadata": {},
   "outputs": [
    {
     "name": "stdout",
     "output_type": "stream",
     "text": [
      "Training completed\n",
      "Training time for KMeans : 1.8654956817626953 secs\n"
     ]
    },
    {
     "data": {
      "text/plain": [
       "{'gran torino': 1,\n",
       " 'american history x': 1,\n",
       " 'blackkklansman': 1,\n",
       " 'School ties': 1,\n",
       " 'race': 1,\n",
       " '42': 1,\n",
       " 'django': 1,\n",
       " 'red tails': 2,\n",
       " 'the green mile': 1,\n",
       " 'white chicks': 1,\n",
       " 'glory road': 1,\n",
       " 'ali': 1,\n",
       " 'a time to kill': 2,\n",
       " 'malcolm x': 1,\n",
       " 'finding forrester': 1,\n",
       " 'black cop': 0,\n",
       " 'get out': 3,\n",
       " 'Do the Right Thing': 1,\n",
       " 'Fruitvale Station': 1,\n",
       " '12 Years a Slave': 1,\n",
       " 'Born on the Fourth of July': 1,\n",
       " 'forrest gump': 4,\n",
       " 'Gangs of New York Script': 1}"
      ]
     },
     "execution_count": 9,
     "metadata": {},
     "output_type": "execute_result"
    }
   ],
   "source": [
    "cluster_num = 5\n",
    "model = KMeans(n_clusters=cluster_num, init = \"k-means++\",max_iter=150,n_init=1)\n",
    "\n",
    "doc_cluster = DocumentCluster(data=cleaned_docs,model=model,labels=labels)\n",
    "\n",
    "doc_cluster.train_model(ngram=2, use_idf=True)\n",
    "\n",
    "result_label, result_docs = doc_cluster.predict()\n",
    "\n",
    "\n",
    "result_label"
   ]
  },
  {
   "cell_type": "code",
   "execution_count": 10,
   "metadata": {},
   "outputs": [
    {
     "data": {
      "text/plain": [
       "'\\nfor i in range(cluster_num):\\n    print(\"cluster {}\".format(i))\\n    print(racist_bigrams_per_cluster[i])\\n'"
      ]
     },
     "execution_count": 10,
     "metadata": {},
     "output_type": "execute_result"
    }
   ],
   "source": [
    "\n",
    "# grouping texts by cluster\n",
    "\n",
    "clusters_text = []\n",
    "for i in range(cluster_num):\n",
    "    text = \" \".join([k for k,v in result_docs.items() if v == i])\n",
    "    clusters_text.append(text)\n",
    "\n",
    "\n",
    "# obteniendo los bigramas donde hay insinuaciones racistas \n",
    "\n",
    "def get_cluster_analysis_results(clusters_text):\n",
    "    racist_bigrams_per_cluster = []\n",
    "    for i, corpus in enumerate(clusters_text):\n",
    "        tokens = corpus.split()\n",
    "        bigrams = create_bigram(tokens)\n",
    "        racist_bigrams_per_cluster.append(sort_by_frequency(get_racist_bigrams(bigrams)))\n",
    "\n",
    "\n",
    "\n",
    "    return racist_bigrams_per_cluster\n",
    "\n",
    "racist_bigrams_per_cluster = get_cluster_analysis_results(clusters_text)\n",
    "\n",
    "\n",
    "for i in range(cluster_num):\n",
    "    print(\"cluster {}\".format(i))\n",
    "    print(racist_bigrams_per_cluster[i])\n",
    "\n",
    "\n"
   ]
  },
  {
   "cell_type": "markdown",
   "metadata": {},
   "source": [
    "# Clustering sobre diálogos de los scripts"
   ]
  },
  {
   "cell_type": "code",
   "execution_count": 36,
   "metadata": {},
   "outputs": [
    {
     "name": "stdout",
     "output_type": "stream",
     "text": [
      "Training completed\n",
      "Training time for KMeans : 3.149845838546753 secs\n"
     ]
    }
   ],
   "source": [
    "lines = []\n",
    "labels = []\n",
    "\n",
    "for doc in docs:\n",
    "\n",
    "    for tuple in enumerate(doc.sents):\n",
    "        lines.append(tuple[1].text)\n",
    "        labels.append(tuple[0])\n",
    "\n",
    "cluster_num = 5\n",
    "model = KMeans(n_clusters=cluster_num, init = \"k-means++\",max_iter=150,n_init=1)\n",
    "\n",
    "doc_cluster = DocumentCluster(data=lines,model=model,labels=labels)\n",
    "\n",
    "doc_cluster.train_model(ngram=2, use_idf=True)\n",
    "\n",
    "result_label, result_docs = doc_cluster.predict()\n",
    "\n",
    "\n"
   ]
  },
  {
   "cell_type": "code",
   "execution_count": 40,
   "metadata": {},
   "outputs": [
    {
     "name": "stdout",
     "output_type": "stream",
     "text": [
      "cluster 0\n",
      "479\n",
      "OrderedDict([('a black', 20), ('a nigger', 18), ('white man', 11), ('a white', 7), ('of black', 6), ('black man', 5), ('white folks', 5), ('with white', 4), ('A black', 4), ('were black', 4), ('A nigger', 3), ('black hole', 3), ('goes white', 3), ('white boys', 3), ('little white', 3), ('no white', 3), ('like white', 3), ('niggers are', 3), ('that nigger', 3), ('a niggers', 3), ('black people', 3), ('A white', 3), ('ass nigga', 3), ('nigger that', 3), ('and white', 3), ('this white', 2), ('white devil', 2), ('black and', 2), ('on white', 2), ('nigger on', 2), ('niggers and', 2), ('the nigger', 2), ('nigger in', 2), ('were white', 2), ('Yankee Stadium', 2), ('Hey black', 2), ('black boy', 2), ('white boy', 2), ('these white', 2), ('your nigger', 2), ('nigger gals', 2), ('white men', 2), ('kill white', 2), ('young black', 2), ('nigger fight', 2), ('the white', 2), ('niggers ass', 2), ('a nigga', 2), ('this nigger', 2), ('nigger up', 2), ('big nigger', 2), ('nigger I', 2), ('no black', 2), ('his black', 2), ('niggers nuts', 2), ('in blackness', 2), ('white shirt', 2), ('white people', 2), ('white and', 2), ('black convict', 2), ('black Before', 2), ('black guy', 2), ('in Japanese', 2), ('ANGLESTREET Charlie', 2), ('of niggers', 2), ('my nigga', 2), ('nigga huh', 2), ('black bastard', 2), ('skinny white', 2), ('or JapBuggy', 1), ('JapBuggy that', 1), ('turns white', 1), ('white with', 1), ('ridiculous Wigger', 1), ('Wigger urban', 1), ('urban white', 1), ('white kid', 1), ('goddamned Japanese', 1), ('Japanese cars', 1), ('home white', 1), ('white soldiers', 1), ('organized white', 1), ('white gangs', 1), ('just black', 1), ('of white', 1), ('white Europeans', 1), ('nigger neighborhood', 1), ('with punkwhite', 1), ('punkwhite power', 1), ('this negro', 1), ('negro down', 1), ('the negroid', 1), ('negroid Danny', 1), ('isnt white', 1), ('white Protestant', 1), ('be black', 1), ('black these', 1), ('white fuckin', 1), ('fuckin nigger', 1), ('nigger is', 1), ('nigger Youll', 1), ('Meanwhile niggers', 1), ('chattering black', 1), ('Righteous white', 1), ('white Cracker', 1), ('givin niggers', 1), ('niggers everything', 1), ('us white', 1), ('white folk', 1), ('by Charlie', 1), ('Charlie Wachtel', 1), ('Recognizable Japanese', 1), ('Japanese landmarks', 1), ('white RACHAEL', 1), ('white DEACON', 1), ('Stop blackmailing', 1), ('blackmailing me', 1), ('to black', 1), ('black ERNESTO', 1), ('From black', 1), ('black OFF', 1), ('from black', 1), ('black Various', 1), ('April Yellow', 1), ('Yellow Revised', 1), ('White white', 1), ('white white', 1), ('white We', 1), ('white wed', 1), ('white sir', 1), ('at Yankee', 1), ('black BUSBOY', 1), ('Its white', 1), ('white only', 1), ('bat white', 1), ('white players', 1), ('black one', 1), ('black fans', 1), ('or black', 1), ('black or', 1), ('Black white', 1), ('white were', 1), ('black Nigger', 1), ('that white', 1), ('white Italian', 1), ('for white', 1), ('their black', 1), ('black skinned', 1), ('said niggers', 1), ('niggers Z', 1), ('lady niggers', 1), ('three white', 1), ('your niggers', 1), ('niggers gonna', 1), ('nigger lover', 1), ('killer nigger', 1), ('nigger over', 1), ('black finger', 1), ('Kill white', 1), ('No white', 1), ('little nigger', 1), ('nigger lip', 1), ('matchin nigger', 1), ('nigger gal', 1), ('couple niggers', 1), ('niggers hed', 1), ('black girl', 1), ('one nigger', 1), ('around niggers', 1), ('niggers aside', 1), ('white trash', 1), ('nigger hisself', 1), ('nigga fore', 1), ('nigger like', 1), ('nigger CALVIN', 1), ('to nigger', 1), ('nigger heaven', 1), ('like nigger', 1), ('nigger fightin', 1), ('cheeky black', 1), ('black bugger', 1), ('and nigger', 1), ('nigger So', 1), ('Amerigos niggers', 1), ('niggers last', 1), ('His nigger', 1), ('nigger lost', 1), ('his nigger', 1), ('nigger Candieshakes', 1), ('black little', 1), ('nigger girl', 1), ('my nigger', 1), ('nigger DrSchultz', 1), ('fightin nigger', 1), ('nigger He', 1), ('quality nigger', 1), ('nigger no', 1), ('got niggers', 1), ('niggers there', 1), ('These niggers', 1), ('nigger you', 1), ('a niggerThe', 1), ('niggerThe only', 1), ('is black', 1), ('black We', 1), ('German white', 1), ('black bounty', 1), ('black suit', 1), ('on nigger', 1), ('nigger Im', 1), ('talkin white', 1), ('punishment niggers', 1), ('niggers from', 1), ('nigger run', 1), ('straight black', 1), ('black I', 1), ('nigger slave', 1), ('That blacks', 1), ('blacks damn', 1), ('That black', 1), ('black ride', 1), ('black fella', 1), ('nigger CUT', 1), ('nigger Life', 1), ('for niggers', 1), ('niggers Git', 1), ('that niggers', 1), ('Sright nigger', 1), ('nigger Bad', 1), ('no nigger', 1), ('nigger lectric', 1), ('jet black', 1), ('black bangs', 1), ('white He', 1), ('in black', 1), ('black They', 1), ('OUTLINE blacked', 1), ('blacked out', 1), ('blackness her', 1), ('blackness WOMAN', 1), ('go black', 1), ('black there', 1), ('hate white', 1), ('me Fastblackor', 1), ('Fastblackor Daddy', 1), ('want black', 1), ('black lawyers', 1), ('Arabtalkin nigger', 1), ('nigger gonna', 1), ('me nigger', 1), ('nigger BINGHAM', 1), ('black city', 1), ('Atlantas black', 1), ('black elite', 1), ('scattered whites', 1), ('whites no', 1), ('knockedout white', 1), ('white policemen', 1), ('out black', 1), ('black soldiers', 1), ('first black', 1), ('black promoted', 1), ('His white', 1), ('white mouth', 1), ('white phosphorus', 1), ('the black', 1), ('black holes', 1), ('cheap black', 1), ('black sunovabitch', 1), ('very black', 1), ('black B', 1), ('and whitelooking', 1), ('whitelooking VOICE', 1), ('black world', 1), ('your black', 1), ('black hands', 1), ('nigger MALCOLM', 1), ('Mr Charlie', 1), ('Charlie Cooper', 1), ('skinned black', 1), ('black tough', 1), ('half nigger', 1), ('nigger and', 1), ('balling white', 1), ('white girls', 1), ('be white', 1), ('white But', 1), ('looked black', 1), ('black MALCOLMS', 1), ('black day', 1), ('as black', 1), ('black cruelty', 1), ('also blackmail', 1), ('blackmail blackball', 1), ('blackball blackguard', 1), ('blackguard MALCOLM', 1), ('black hence', 1), ('white mans', 1), ('black mans', 1), ('one white', 1), ('white face', 1), ('Sure white', 1), ('mostly white', 1), ('white but', 1), ('black convicts', 1), ('was white', 1), ('white There', 1), ('enough white', 1), ('white tail', 1), ('white John', 1), ('black coffee', 1), ('some white', 1), ('white sugar', 1), ('in white', 1), ('nigger The', 1), ('black Americans', 1), ('dead nigger', 1), ('nigger ANGLE', 1), ('white boat', 1), ('white one', 1), ('pearly whites', 1), ('whites DARLA', 1), ('him Japanese', 1), ('Japanese farmer', 1), ('a Jap', 1), ('Jap Look', 1), ('like Japs', 1), ('Japs anyway', 1), ('small black', 1), ('black dog', 1), ('my black', 1), ('black boyfriend', 1), ('black mold', 1), ('Welltodo white', 1), ('white family', 1), ('family black', 1), ('black servants', 1), ('pitch black', 1), ('black abyss', 1), ('another black', 1), ('black dude', 1), ('ate niggas', 1), ('niggas heads', 1), ('Japanese Can', 1), ('white seeming', 1), ('different black', 1), ('Shes white', 1), ('white DETECTIVE', 1), ('big white', 1), ('white teeth', 1), ('his white', 1), ('white convertible', 1), ('forward Charlie', 1), ('Charlie doesnt', 1), ('Charlie a', 1), ('Charlie drives', 1), ('big black', 1), ('black smudge', 1), ('new white', 1), ('white unlaced', 1), ('not niggers', 1), ('niggers I', 1), ('niggers its', 1), ('white Him', 1), ('white COCONUT', 1), ('black mass', 1), ('he black', 1), ('black KATIE', 1), ('Hes white', 1), ('white Hes', 1), ('black card', 1), ('birthday nigga', 1), ('nigga SOPHINA', 1), ('uniforms black', 1), ('black players', 1), ('players black', 1), ('black coach', 1), ('black wife', 1), ('all white', 1), ('white dudes', 1), ('black face', 1), ('these niggas', 1), ('niggas brought', 1), ('nigga We', 1), ('nigga motions', 1), ('Yall niggas', 1), ('niggas is', 1), ('and whites', 1), ('whites all', 1), ('Bitch nigga', 1), ('nigga Osc', 1), ('now nigga', 1), ('nigga Sophina', 1), ('Southside niggas', 1), ('niggas towards', 1), ('nigga foreal', 1), ('nigga bruh', 1), ('harsh white', 1), ('white light', 1), ('white male', 1), ('nigger CAPTAIN', 1), ('nigger of', 1), ('Your niggers', 1), ('niggers can', 1), ('nigger yet', 1), ('Yah black', 1), ('goddman black', 1), ('day nigger', 1), ('nigger This', 1), ('nigger breaker', 1), ('That nigger', 1), ('ere nigger', 1), ('nigger shall', 1), ('average nigger', 1), ('nigger pick', 1), ('This nigger', 1), ('nigger aint', 1), ('nigger among', 1), ('among niggers', 1), ('other nigger', 1), ('nigger Choose', 1), ('nigger thatll', 1), ('n white', 1), ('white as', 1), ('my niggers', 1), ('niggers is', 1), ('slick nigger', 1), ('nigger ways', 1), ('larned nigger', 1), ('get white', 1), ('white fellows', 1), ('white Platt', 1), ('white Epps', 1), ('nigger Bass', 1), ('any nigger', 1), ('picking nigger', 1), ('nigger My', 1), ('My nigger', 1), ('nigger my', 1), ('against whites', 1), ('whites END', 1), ('white grease', 1), ('Japanese which', 1), ('As Japanese', 1), ('Japanese boy', 1), ('white photo', 1), ('idiot niggas', 1), ('niggas WHITE', 1), ('red white', 1), ('white lie', 1), ('sturdy black', 1), ('with Charlie', 1), ('Charlie Williams', 1), ('are white', 1), ('white Theres', 1), ('never white', 1), ('all black', 1), ('black Richie', 1), ('black undercover', 1), ('white woman', 1), ('white date', 1), ('suburban white', 1), ('white kids', 1), ('crates Japanese', 1), ('Japanese TVs', 1), ('what Charlie', 1), ('Charlie tells', 1), ('to Yankee', 1), ('like Charlie', 1), ('Charlie Everybody', 1), ('liked Charlie', 1), ('Charlie Who', 1), ('Frank Charlies', 1), ('Charlies dead', 1), ('Hes black', 1), ('black Now', 1), ('fucking nigger', 1), ('nigger has', 1), ('black hand', 1)])\n",
      "cluster 1\n",
      "0\n",
      "OrderedDict()\n",
      "cluster 2\n",
      "829\n",
      "OrderedDict([('the black', 62), ('the white', 59), ('a black', 47), ('white man', 40), ('black man', 39), ('a white', 37), ('black and', 19), ('and white', 19), ('black people', 18), ('white men', 13), ('white and', 13), ('of white', 12), ('of black', 12), ('and black', 12), ('white people', 12), ('black woman', 12), ('The black', 11), ('white mans', 11), ('A black', 9), ('The white', 9), ('to black', 8), ('with white', 8), ('black men', 8), ('white folks', 8), ('black hole', 8), ('A white', 7), ('in black', 7), ('a nigger', 7), ('black guy', 6), ('black masses', 6), ('white woman', 5), ('is white', 5), ('the blacks', 5), ('the nigger', 5), ('the niggers', 5), ('black guys', 4), ('is black', 4), ('white trash', 4), ('are black', 4), ('black sand', 4), ('in white', 4), ('nigger in', 4), ('other white', 4), ('old black', 4), ('nigger and', 4), ('black suit', 4), ('black leather', 4), ('black servicemen', 4), ('Charlie Williams', 4), ('his black', 3), ('young black', 3), ('black A', 3), ('From black', 3), ('black boy', 3), ('no white', 3), ('one black', 3), ('the Yankees', 3), ('nigger is', 3), ('The Hillbilly', 3), ('my niggers', 3), ('nigger gal', 3), ('black women', 3), ('for black', 3), ('nigger fight', 3), ('black mans', 3), ('her black', 3), ('black insects', 3), ('white sheet', 3), ('the blackness', 3), ('be black', 3), ('white girl', 3), ('white shirt', 3), ('white devil', 3), ('where black', 3), ('the whites', 3), ('other black', 3), ('long black', 3), ('whitehot sun', 3), ('our black', 3), ('black INT', 2), ('white power', 2), ('black community', 2), ('of blacks', 2), ('and whites', 2), ('white boys', 2), ('white one', 2), ('black players', 2), ('white race', 2), ('by black', 2), ('white guys', 2), ('two white', 2), ('white table', 2), ('black prisoners', 2), ('white foam', 2), ('white stripes', 2), ('the blackout', 2), ('black The', 2), ('wearing black', 2), ('black sunglasses', 2), ('black section', 2), ('on black', 2), ('niggers dont', 2), ('white shirts', 2), ('little white', 2), ('pitch black', 2), ('black night', 2), ('white fur', 2), ('field nigger', 2), ('niggers to', 2), ('blacks at', 2), ('The Yellow', 2), ('ugly white', 2), ('black girl', 2), ('white lace', 2), ('white masters', 2), ('white dress', 2), ('sweaty black', 2), ('black males', 2), ('your niggers', 2), ('black slaver', 2), ('that nigger', 2), ('nigger on', 2), ('this nigger', 2), ('Hillbilly Trackers', 2), ('white faces', 2), ('this black', 2), ('black ass', 2), ('my nigger', 2), ('your black', 2), ('big black', 2), ('niggers we', 2), ('fancy black', 2), ('white friend', 2), ('black folks', 2), ('shiny black', 2), ('black mask', 2), ('turn white', 2), ('black letters', 2), ('the whiteness', 2), ('black correspondent', 2), ('black power', 2), ('are white', 2), ('good white', 2), ('night black', 2), ('first white', 2), ('your white', 2), ('black Malcolm', 2), ('All white', 2), ('black nationalism', 2), ('all white', 2), ('that black', 2), ('the whitehot', 2), ('white Me', 2), ('black crepe', 2), ('white television', 2), ('Two black', 2), ('large black', 2), ('wealthy white', 2), ('black leaders', 2), ('black soldiers', 2), ('mans black', 2), ('and Charlie', 2), ('white cloth', 1), ('a blackandwhite', 1), ('blackandwhite PHOTO', 1), ('hairy white', 1), ('teeth black', 1), ('three black', 1), ('One black', 1), ('only white', 1), ('strange white', 1), ('white Honda', 1), ('black Sharpie', 1), ('black ink', 1), ('some whitetrash', 1), ('whitetrash hillbilly', 1), ('black FORD', 1), ('black combat', 1), ('promotes white', 1), ('the nonwhite', 1), ('nonwhite Look', 1), ('black CroMagnons', 1), ('black kid', 1), ('black gang', 1), ('blacks and', 1), ('whites and', 1), ('predominantly black', 1), ('black team', 1), ('That white', 1), ('jeans black', 1), ('black boots', 1), ('tv nigger', 1), ('nigger He', 1), ('Random black', 1), ('black protestors', 1), ('now whites', 1), ('whites will', 1), ('terrified white', 1), ('struggling black', 1), ('black CROMAG', 1), ('older white', 1), ('two niggers', 1), ('niggers deserved', 1), ('few black', 1), ('white homeless', 1), ('white meat', 1), ('white women', 1), ('white vehicle', 1), ('drab whitewalled', 1), ('whitewalled office', 1), ('lone white', 1), ('white light', 1), ('empty white', 1), ('white walls', 1), ('Spook Sambo', 1), ('Sambo Spear', 1), ('black nacar', 1), ('minute blackout', 1), ('blackout at', 1), ('blackout that', 1), ('blackout of', 1), ('black During', 1), ('black we', 1), ('black MATEOHARRYS', 1), ('black notebook', 1), ('black HARRYS', 1), ('black Harry', 1), ('black Ellipsis', 1), ('black ON', 1), ('black FRONT', 1), ('white skin', 1), ('become white', 1), ('white against', 1), ('black beach', 1), ('vast blacksand', 1), ('blacksand beach', 1), ('behind black', 1), ('sea black', 1), ('black dirt', 1), ('this blackdirt', 1), ('blackdirt landscape', 1), ('white is', 1), ('black ballplayers', 1), ('black faces', 1), ('white baseball', 1), ('white couple', 1), ('black vote', 1), ('two black', 1), ('Beachs black', 1), ('white Rickey', 1), ('says white', 1), ('white sections', 1), ('white section', 1), ('black crowd', 1), ('No niggers', 1), ('clean white', 1), ('white wool', 1), ('Fortynine white', 1), ('white players', 1), ('black Jack', 1), ('Yankees RICKEY', 1), ('next white', 1), ('white son', 1), ('Yankees we', 1), ('genuine nigger', 1), ('nigger Hey', 1), ('Hey black', 1), ('crisp white', 1), ('white boy', 1), ('York Yankees', 1), ('Yankees stealing', 1), ('another white', 1), ('unshaven white', 1), ('wet white', 1), ('white hands', 1), ('nigger So', 1), ('Hillbilly spits', 1), ('DrSchultzs white', 1), ('white button', 1), ('nervous black', 1), ('black slave', 1), ('buncha white', 1), ('for niggers', 1), ('niggers My', 1), ('these black', 1), ('black angels', 1), ('coal blacks', 1), ('blacks horse', 1), ('dollar nigger', 1), ('Whoa nigger', 1), ('nigger calm', 1), ('Yellow Dynamite', 1), ('Yellow covered', 1), ('these niggers', 1), ('niggers stink', 1), ('that niggers', 1), ('like white', 1), ('felt nigger', 1), ('white bag', 1), ('bought nigger', 1), ('beautiful white', 1), ('white parasol', 1), ('black Daisy', 1), ('to white', 1), ('rich white', 1), ('mean white', 1), ('powerful white', 1), ('fancyfucking white', 1), ('her white', 1), ('black slavebodyguard', 1), ('white mens', 1), ('bigger nigger', 1), ('other nigger', 1), ('nigger belongs', 1), ('niggers name', 1), ('nigger to', 1), ('fucker black', 1), ('nigger The', 1), ('black riding', 1), ('black its', 1), ('night nigger', 1), ('nigger fights', 1), ('white curly', 1), ('nigger you', 1), ('fightin nigger', 1), ('nigger little', 1), ('nigger Snowball', 1), ('right nigger', 1), ('nigger Now', 1), ('wrong nigger', 1), ('nigger per', 1), ('winner nigger', 1), ('nigger And', 1), ('niggers endurance', 1), ('The niggers', 1), ('niggers know', 1), ('goddamn nigger', 1), ('and nigger', 1), ('nigger lovin', 1), ('bout black', 1), ('black puddin', 1), ('nigger regret', 1), ('naked black', 1), ('the barnblacksmith', 1), ('barnblacksmith facility', 1), ('the blacksmith', 1), ('blacksmith barn', 1), ('black poker', 1), ('ONE white', 1), ('nd white', 1), ('niggers and', 1), ('my white', 1), ('white German', 1), ('This white', 1), ('black his', 1), ('The nigger', 1), ('nigger cage', 1), ('Chicken Charlie', 1), ('Charlie come', 1), ('small black', 1), ('black silhouette', 1), ('black dress', 1), ('brim black', 1), ('black hat', 1), ('hat black', 1), ('black veil', 1), ('present black', 1), ('black Mammy', 1), ('backed black', 1), ('feeds black', 1), ('last nigger', 1), ('nigger bitch', 1), ('black flowing', 1), ('black velvet', 1), ('funeral black', 1), ('All black', 1), ('white lunges', 1), ('black fellow', 1), ('white musicalTop', 1), ('In blackness', 1), ('blackness a', 1), ('huge black', 1), ('black eyes', 1), ('tiny black', 1), ('turn whiteand', 1), ('whiteand disappear', 1), ('the negro', 1), ('negro will', 1), ('swirling black', 1), ('burning white', 1), ('white jelly', 1), ('sizzling purpleblack', 1), ('purpleblack The', 1), ('skinny white', 1), ('white arm', 1), ('twisted Yellowish', 1), ('Yellowish bile', 1), ('gone white', 1), ('tiny white', 1), ('white bird', 1), ('massive black', 1), ('black arm', 1), ('black bugs', 1), ('baldheaded black', 1), ('magical black', 1), ('off Yellow', 1), ('Yellow police', 1), ('white Why', 1), ('white out', 1), ('white very', 1), ('their white', 1), ('white construction', 1), ('black smoke', 1), ('white The', 1), ('white sand', 1), ('pure white', 1), ('white flakes', 1), ('whiteness OMITTED', 1), ('swirling white', 1), ('white FADE', 1), ('blackness Jane', 1), ('the Japanese', 1), ('Japanese Domino', 1), ('black theyre', 1), ('black because', 1), ('in blackness', 1), ('blackness planted', 1), ('white ear', 1), ('white paper', 1), ('black bg', 1), ('innercity black', 1), ('black neighborhood', 1), ('black mirrored', 1), ('black sky', 1), ('running black', 1), ('white cops', 1), ('patrician white', 1), ('white businesspeople', 1), ('through black', 1), ('over black', 1), ('black water', 1), ('watching white', 1), ('white Jesus', 1), ('nice white', 1), ('white passengers', 1), ('middleaged black', 1), ('black shirt', 1), ('white windows', 1), ('middleaged white', 1), ('white officials', 1), ('predominantly white', 1), ('reporters black', 1), ('covered white', 1), ('white sofa', 1), ('black ALI', 1), ('let black', 1), ('black Africa', 1), ('giant black', 1), ('black star', 1), ('holes black', 1), ('black eagles', 1), ('white suburbs', 1), ('black Jew', 1), ('black suits', 1), ('dozen white', 1), ('white Houston', 1), ('whiteness as', 1), ('white showcase', 1), ('white suit', 1), ('white tie', 1), ('white caftan', 1), ('white satin', 1), ('against white', 1), ('white in', 1), ('students white', 1), ('black some', 1), ('the whitetile', 1), ('whitetile North', 1), ('black satellite', 1), ('establishment blacks', 1), ('blacks Puerto', 1), ('about black', 1), ('helping black', 1), ('black proletariat', 1), ('white helmets', 1), ('talks black', 1), ('black lives', 1), ('lives white', 1), ('ass niggers', 1), ('first allblack', 1), ('allblack promotion', 1), ('Indonesia Japan', 1), ('Japan But', 1), ('white with', 1), ('black ZACK', 1), ('black holes', 1), ('black side', 1), ('white feather', 1), ('white Christians', 1), ('therefore black', 1), ('by white', 1), ('so black', 1), ('black she', 1), ('especially white', 1), ('white chicks', 1), ('black dance', 1), ('dominantly black', 1), ('black but', 1), ('some whites', 1), ('whites in', 1), ('gorgeous white', 1), ('white chick', 1), ('ripe white', 1), ('white breasts', 1), ('black life', 1), ('zootsuited blacks', 1), ('blacks race', 1), ('white gal', 1), ('nigger MALCOLM', 1), ('very black', 1), ('new white', 1), ('white on', 1), ('on white', 1), ('mixed black', 1), ('white AUDIENCE', 1), ('black sheets', 1), ('than white', 1), ('white WE', 1), ('dead nigger', 1), ('nigger CLOSE', 1), ('of whiteys', 1), ('whiteys social', 1), ('Head nigger', 1), ('one white', 1), ('black slowly', 1), ('black guard', 1), ('white guard', 1), ('black We', 1), ('his white', 1), ('up white', 1), ('white Bembry', 1), ('he black', 1), ('black or', 1), ('or white', 1), ('white or', 1), ('history black', 1), ('black history', 1), ('were black', 1), ('black convict', 1), ('white BEMBRY', 1), ('that white', 1), ('black I', 1), ('not black', 1), ('black CHAPLAIN', 1), ('white pale', 1), ('aint black', 1), ('black dont', 1), ('Be black', 1), ('black Think', 1), ('Think black', 1), ('black Buy', 1), ('Buy black', 1), ('black ANGLE', 1), ('white devils', 1), ('black teenager', 1), ('white politicians', 1), ('semisavage white', 1), ('white policemen', 1), ('white supremacy', 1), ('teaching black', 1), ('black supremacy', 1), ('showing black', 1), ('blacks in', 1), ('black ghetto', 1), ('an allblack', 1), ('allblack audience', 1), ('because black', 1), ('black headlines', 1), ('no blackwhite', 1), ('blackwhite unity', 1), ('some black', 1), ('black unity', 1), ('white towels', 1), ('from white', 1), ('white to', 1), ('darkest black', 1), ('black stone', 1), ('the whitest', 1), ('whitest of', 1), ('of whites', 1), ('whites And', 1), ('some white', 1), ('white Americans', 1), ('black brown', 1), ('white REPORTER', 1), ('And black', 1), ('if white', 1), ('whites would', 1), ('and niggers', 1), ('niggers ruined', 1), ('my whiteness', 1), ('whiteness What', 1), ('sincere white', 1), ('white individuals', 1), ('those whites', 1), ('whites who', 1), ('black doll', 1), ('white you', 1), ('black stony', 1), ('black Cuban', 1), ('and blackened', 1), ('blackened earth', 1), ('Loyal JapaneseAmericans', 1), ('JapaneseAmericans thats', 1), ('little black', 1), ('black medical', 1), ('The Jap', 1), ('Jap came', 1), ('black alcove', 1), ('black on', 1), ('black OUT', 1), ('black ashy', 1), ('black velvetcovered', 1), ('CONTD black', 1), ('black Rose', 1), ('shiny white', 1), ('white BMW', 1), ('black wet', 1), ('white framed', 1), ('white cat', 1), ('timid black', 1), ('white except', 1), ('one Japanese', 1), ('Japanese man', 1), ('four white', 1), ('white children', 1), ('on niggas', 1), ('niggas and', 1), ('black guest', 1), ('the whitestmost', 1), ('whitestmost dude', 1), ('different black', 1), ('Why black', 1), ('black nurses', 1), ('white robe', 1), ('white Christian', 1), ('million black', 1), ('their black', 1), ('black poor', 1), ('black hair', 1), ('white stream', 1), ('into Charlies', 1), ('Charlies car', 1), ('ANGLESTREET Charlie', 1), ('Charlie pulls', 1), ('once whitehot', 1), ('white collared', 1), ('small white', 1), ('white bandage', 1), ('stocky white', 1), ('white inmate', 1), ('white rice', 1), ('mostly white', 1), ('white though', 1), ('CHILD white', 1), ('white thirty', 1), ('COUPLE white', 1), ('white look', 1), ('handsome white', 1), ('oversized white', 1), ('white T', 1), ('them niggas', 1), ('niggas BOOM', 1), ('these niggas', 1), ('niggas bruh', 1), ('imposing white', 1), ('shaven white', 1), ('white cop', 1), ('black gun', 1), ('whites These', 1), ('blacks are', 1), ('city black', 1), ('black crepes', 1), ('a blackness', 1), ('blackness more', 1), ('otherwise nearblack', 1), ('nearblack room', 1), ('runaway nigger', 1), ('nigger from', 1), ('black kind', 1), ('and blacking', 1), ('blacking out', 1), ('pumping black', 1), ('black oily', 1), ('are niggers', 1), ('niggers born', 1), ('niggers Get', 1), ('picking niggers', 1), ('niggers CONTINUED', 1), ('white overseer', 1), ('clever nigger', 1), ('work niggers', 1), ('niggers so', 1), ('white customer', 1), ('own niggers', 1), ('niggers Handing', 1), ('nigger another', 1), ('black hanging', 1), ('Guinea nigger', 1), ('nigger brought', 1), ('striking black', 1), ('black hands', 1), ('dem niggers', 1), ('niggers Edward', 1), ('white linens', 1), ('pickin niggers', 1), ('niggers that', 1), ('black throat', 1), ('lyin nigger', 1), ('nigger have', 1), ('Damned nigger', 1), ('nigger Damn', 1), ('niggers Let', 1), ('them black', 1), ('black animals', 1), ('white it', 1), ('northern black', 1), ('black They', 1), ('far whiter', 1), ('whiter than', 1), ('most blacks', 1), ('blacks IT', 1), ('white gown', 1), ('white maple', 1), ('blackness No', 1), ('blackness and', 1), ('niggers That', 1), ('black alike', 1), ('niggers make', 1), ('every nigger', 1), ('halfpainted white', 1), ('white gazebo', 1), ('where blacks', 1), ('blacks were', 1), ('nigger by', 1), ('Over black', 1), ('black screen', 1), ('wrinkly black', 1), ('millimetre black', 1), ('mean black', 1), ('white where', 1), ('blacks black', 1), ('whites white', 1), ('white This', 1), ('white tshirt', 1), ('white evidence', 1), ('black shoes', 1), ('from blackness', 1), ('blackness to', 1), ('black white', 1), ('black students', 1), ('black recruit', 1), ('white dove', 1), ('black soldier', 1), ('named Charlie', 1), ('Charlie I', 1), ('got Charlie', 1), ('Charlie all', 1), ('white ass', 1), ('black communists', 1), ('black eye', 1), ('black kids', 1), ('black shrimper', 1), ('The allblack', 1), ('allblack gospel', 1), ('of Japanese', 1), ('Japanese stereo', 1), ('white Bentley', 1), ('fine Charlie', 1), ('Charlie Half', 1), ('a blackboard', 1), ('blackboard like', 1), ('distinctive black', 1), ('Stitchedup black', 1), ('exclusively black', 1), ('black American', 1), ('black colonel', 1), ('white officer', 1), ('agitated allblack', 1), ('allblack crowd', 1), ('servicemen black', 1), ('black armed', 1), ('telling white', 1), ('white suburbia', 1), ('with Charlie', 1), ('fat black', 1), ('black one', 1), ('heavy black', 1), ('white liquid', 1), ('base black', 1), ('whites arriving', 1), ('guys Charlie', 1), ('Yankees As', 1), ('black cop', 1), ('blacks including', 1), ('including Charlie', 1), ('Charlie look', 1), ('bloody white', 1), ('white coats', 1), ('to Charlie', 1), ('Charlie But', 1), ('Jackie Charlie', 1), ('Charlie Baz', 1), ('like Charlie', 1), ('no black', 1), ('black has', 1), ('bows Charlie', 1), ('Charlie has', 1), ('Charlie he', 1), ('black body', 1), ('New white', 1), ('white military', 1), ('white caskets', 1), ('black privates', 1), ('for Yankees', 1), ('Yankees jumps', 1), ('same Yankee', 1), ('Yankee baseball', 1), ('Several black', 1)])\n",
      "cluster 3\n",
      "266\n",
      "OrderedDict([('nigger run', 20), ('Run nigger', 18), ('white man', 16), ('a nigger', 14), ('the white', 9), ('a white', 8), ('a black', 6), ('the black', 5), ('that nigger', 5), ('this nigger', 5), ('that black', 4), ('you black', 3), ('nigger and', 3), ('nigger here', 3), ('black slaver', 3), ('black and', 3), ('black man', 3), ('The black', 2), ('black guys', 2), ('white boy', 2), ('white men', 2), ('your nigger', 2), ('my nigger', 2), ('other niggers', 2), ('niggers around', 2), ('that white', 2), ('nigger kill', 2), ('you niggers', 2), ('your black', 2), ('the niggers', 2), ('nigger that', 2), ('black you', 2), ('cheap black', 2), ('black sunovabitch', 2), ('aint white', 2), ('black MALCOLM', 2), ('is black', 2), ('black was', 2), ('good white', 2), ('are black', 2), ('white folks', 2), ('white people', 2), ('black ass', 2), ('niggers are', 2), ('and nigger', 2), ('run nigger', 2), ('nigger flew', 2), ('old black', 1), ('black pickup', 1), ('and Charlie', 1), ('Charlie Chan', 1), ('thick black', 1), ('black POWER', 1), ('A black', 1), ('black jacket', 1), ('fuckin nigger', 1), ('nigger now', 1), ('nigger turns', 1), ('white mans', 1), ('with whites', 1), ('whites gooks', 1), ('cause whites', 1), ('whites wont', 1), ('white race', 1), ('The white', 1), ('white Brooklyn', 1), ('black sonofabitch', 1), ('these white', 1), ('white boys', 1), ('black Nigger', 1), ('like white', 1), ('white girls', 1), ('nigger on', 1), ('about white', 1), ('white guys', 1), ('unshaven white', 1), ('nigger outta', 1), ('nigger come', 1), ('nigger gals', 1), ('pants nigger', 1), ('loveliest black', 1), ('black creatures', 1), ('for nigger', 1), ('nigger clumsiness', 1), ('of niggers', 1), ('niggers yall', 1), ('niggers better', 1), ('no white', 1), ('white girl', 1), ('house niggers', 1), ('niggers and', 1), ('nigger Coco', 1), ('cowboy nigger', 1), ('nigger just', 1), ('find nigger', 1), ('nigger fightin', 1), ('fighting nigger', 1), ('nigger at', 1), ('ass nigger', 1), ('nigger from', 1), ('ass niggers', 1), ('niggers He', 1), ('niggers you', 1), ('the nigger', 1), ('nigger you', 1), ('niggers I', 1), ('nigger however', 1), ('This nigger', 1), ('That nigger', 1), ('nigger there', 1), ('fightin niggers', 1), ('niggers about', 1), ('for niggers', 1), ('niggers to', 1), ('nigger speaks', 1), ('these niggas', 1), ('niggas round', 1), ('every nigga', 1), ('nigga on', 1), ('again nigger', 1), ('nigger see', 1), ('these nigger', 1), ('nigger nicknames', 1), ('any niggers', 1), ('niggers ass', 1), ('A nigger', 1), ('nigger �', 1), ('nigger it', 1), ('many niggers', 1), ('niggers where', 1), ('nigger with', 1), ('nigger I', 1), ('nigger is', 1), ('nigger bitch', 1), ('nigger asses', 1), ('down nigger', 1), ('nigger we', 1), ('Skinny nigger', 1), ('nigger like', 1), ('You blacks', 1), ('blacks line', 1), ('nigger got', 1), ('this black', 1), ('hey white', 1), ('shut black', 1), ('about black', 1), ('black boy', 1), ('Look black', 1), ('black it', 1), ('damned blackie', 1), ('blackie Were', 1), ('Okay black', 1), ('deal black', 1), ('black Django', 1), ('nigger DJANGO', 1), ('you negro', 1), ('negro You', 1), ('dummy nigger', 1), ('nigger Pauls', 1), ('Black Sambo', 1), ('Sambo yassuh', 1), ('in black', 1), ('black glasses', 1), ('best white', 1), ('tall white', 1), ('or Japanese', 1), ('Japanese You', 1), ('black hole', 1), ('black woman', 1), ('white but', 1), ('seen white', 1), ('white breasts', 1), ('them white', 1), ('white bitches', 1), ('enough black', 1), ('black dick', 1), ('totally white', 1), ('white and', 1), ('white smock', 1), ('nigger Why', 1), ('being black', 1), ('white Malcolm', 1), ('black mans', 1), ('black heathen', 1), ('with white', 1), ('white skin', 1), ('word black', 1), ('black in', 1), ('black convicts', 1), ('black Malcolm', 1), ('socalled white', 1), ('white Christian', 1), ('hanging black', 1), ('black Christians', 1), ('black Because', 1), ('Because black', 1), ('black is', 1), ('you nigger', 1), ('nigger If', 1), ('teach black', 1), ('black supremacy', 1), ('my whiteness', 1), ('whiteness What', 1), ('about blackout', 1), ('blackout Maybe', 1), ('red nigger', 1), ('nigger of', 1), ('living black', 1), ('black manhood', 1), ('lousy Jap', 1), ('Jap farmer', 1), ('the Japanese', 1), ('Japanese make', 1), ('yellowbellied Jap', 1), ('Jap lover', 1), ('first black', 1), ('black guy', 1), ('know white', 1), ('abducting black', 1), ('black people', 1), ('youre black', 1), ('black brown', 1), ('ya black', 1), ('new white', 1), ('white Air', 1), ('say nigger', 1), ('nigger this', 1), ('are niggers', 1), ('niggers PINO', 1), ('First white', 1), ('Fuckin niggers', 1), ('niggers My', 1), ('ass nigga', 1), ('nigga BRANDON', 1), ('dead nigger', 1), ('nigger Solomons', 1), ('those niggers', 1), ('niggers Two', 1), ('nigger wont', 1), ('Oh nigger', 1), ('nigger behind', 1), ('nigger more', 1), ('exceptional nigger', 1), ('nigger Platt', 1), ('black bitch', 1), ('black face', 1), ('your niggers', 1), ('niggers when', 1), ('nigger but', 1), ('These niggers', 1), ('was white', 1), ('white or', 1), ('or white', 1), ('white black', 1), ('black if', 1), ('among Yankees', 1), ('Yankees in', 1), ('miserable black', 1), ('black dogs', 1), ('nigger PARKER', 1), ('My nigger', 1), ('black nurse', 1), ('white woman', 1), ('A white', 1), ('in Cholon', 1), ('Cholon or', 1)])\n",
      "cluster 4\n",
      "0\n",
      "OrderedDict()\n"
     ]
    }
   ],
   "source": [
    "# grouping texts by cluster\n",
    "\n",
    "clusters_text = []\n",
    "for i in range(cluster_num):\n",
    "    text = \" \".join([k for k,v in result_docs.items() if v == i])\n",
    "    clusters_text.append(text)\n",
    "\n",
    "\n",
    "# obteniendo los bigramas donde hay insinuaciones racistas \n",
    "\n",
    "def get_cluster_analysis_results(clusters_text):\n",
    "    racist_bigrams_per_cluster = []\n",
    "    for i, corpus in enumerate(clusters_text):\n",
    "        tokens = corpus.split()\n",
    "        bigrams = create_bigram(tokens)\n",
    "        racist_bigrams_per_cluster.append(sort_by_frequency(get_racist_bigrams(bigrams)))\n",
    "\n",
    "\n",
    "\n",
    "    return racist_bigrams_per_cluster\n",
    "\n",
    "racist_bigrams_per_cluster = get_cluster_analysis_results(clusters_text)\n",
    "\n",
    "\n",
    "for i in range(cluster_num):\n",
    "    print(\"cluster {}\".format(i))\n",
    "    print(len(racist_bigrams_per_cluster[i]))\n",
    "    print(racist_bigrams_per_cluster[i])\n",
    "\n"
   ]
  }
 ],
 "metadata": {
  "interpreter": {
   "hash": "08d3084121668768e852e6c8847875f2891314f0e7777835d5874d24554f93cd"
  },
  "kernelspec": {
   "display_name": "Python 3.8.10 64-bit ('env_proyecto_nlp': venv)",
   "name": "python3"
  },
  "language_info": {
   "codemirror_mode": {
    "name": "ipython",
    "version": 3
   },
   "file_extension": ".py",
   "mimetype": "text/x-python",
   "name": "python",
   "nbconvert_exporter": "python",
   "pygments_lexer": "ipython3",
   "version": "3.8.10"
  },
  "orig_nbformat": 4
 },
 "nbformat": 4,
 "nbformat_minor": 2
}
